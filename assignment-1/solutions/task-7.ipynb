{
 "cells": [
  {
   "cell_type": "markdown",
   "id": "4c1cd6b3-0b27-4540-97fc-96c1ce71e524",
   "metadata": {},
   "source": [
    "# Signal processing course 2018/2019-1 @ ELTE\n",
    "# Assignment 1\n",
    "## 09.17.2018"
   ]
  },
  {
   "cell_type": "markdown",
   "id": "1b35aa36-2b51-45da-8beb-969ce7bee054",
   "metadata": {},
   "source": [
    "## Task 7\n",
    "### Heron's formula\n",
    "\n",
    "The algorithm for calculating a triangle's area is the well-known Heron's formula. It states that the area of a triangle whose sides have lengths $a$, $b$, and $c$ is\n",
    "\n",
    "$$\n",
    "A = \\sqrt{s \\left( s-a \\right) \\left( s-b \\right) \\left( s-c \\right)}\n",
    "$$\n",
    "\n",
    "Heron's formula as given above is numerically unstable for triangles with a very small angle when using floating point arithmetic. A stable alternative involves arranging the lengths of the sides so that $a \\geq b \\geq c$ and computing:\n",
    "\n",
    "$$\n",
    "A = \\frac{1}{4}\\sqrt{ \\left( a + \\left( b + c \\right) \\right) \\left( c − \\left( a − b \\right) \\right) \\left( c + \\left( a − b \\right) \\right) \\left( a + \\left( b − c \\right) \\right)}\n",
    "$$\n",
    "\n",
    "Where\n",
    "\n",
    "$$\n",
    "s = \\frac{a+b+c}{2}\n",
    "$$\n",
    "\n",
    "The brackets in the above formula are required in order to prevent numerical instability in the evaluation."
   ]
  },
  {
   "cell_type": "code",
   "execution_count": null,
   "id": "df0d0252-ef13-4a7c-89b6-dc39bc80097c",
   "metadata": {},
   "outputs": [],
   "source": [
    "import numpy as np"
   ]
  },
  {
   "cell_type": "markdown",
   "id": "ab6f3d6d-b1e1-4241-b9a9-f70649be23e1",
   "metadata": {},
   "source": [
    "#### Define the length of sides and the $\\left( \\beta, p \\right)$ parameters"
   ]
  },
  {
   "cell_type": "code",
   "execution_count": null,
   "id": "dc65d8f5-6f2f-45d7-92d9-dc3a3eb47f29",
   "metadata": {},
   "outputs": [],
   "source": [
    "a = 9\n",
    "b = 4.53\n",
    "c = 4.53\n",
    "\n",
    "beta, p = 10, 3"
   ]
  },
  {
   "cell_type": "markdown",
   "id": "b4687866-cacb-4502-9dd1-e9b64d257876",
   "metadata": {},
   "source": [
    "#### Calculate half of circumference"
   ]
  },
  {
   "cell_type": "code",
   "execution_count": null,
   "id": "0502e498-01c1-4a28-8653-7ee7f85ae1ba",
   "metadata": {
    "scrolled": true
   },
   "outputs": [],
   "source": [
    "s = (a + b + c) / 2\n",
    "print(f'Half of circumference: {s}')"
   ]
  },
  {
   "cell_type": "markdown",
   "id": "38b45341-9f95-49ce-84e2-c740bc62679e",
   "metadata": {},
   "source": [
    "#### Compare the two implementations of Heron's formula"
   ]
  },
  {
   "cell_type": "code",
   "execution_count": null,
   "id": "836c0c38-d3aa-4d1b-9a2a-3eb6d6dbc880",
   "metadata": {},
   "outputs": [],
   "source": [
    "A1 = np.sqrt(s * (s - a) * (s - b) * (s - c))\n",
    "A2 = 1/4 * np.sqrt((a + (b + c)) * (c - (a - b)) * (c + (a - b)) * (a + (b - c)))\n",
    "\n",
    "print(f'Heron standard:              {A1}')\n",
    "print(f'Heron numerically corrected: {A2}')\n",
    "print(f'Absolute difference:         {np.abs(A2 - A1)}')"
   ]
  },
  {
   "cell_type": "markdown",
   "id": "6c0364ed-a75c-4948-99d1-14527f5ba1ea",
   "metadata": {},
   "source": [
    "#### Calculating relative and absolute errors\n",
    "\n",
    "Similarly as in Task 5."
   ]
  },
  {
   "cell_type": "code",
   "execution_count": null,
   "id": "77893b19-0905-47ff-8f2d-672c4f165f5f",
   "metadata": {},
   "outputs": [],
   "source": [
    "def calc_eps_error(beta, p):\n",
    "    return(1/2 * (1/beta**(abs(1-p))))"
   ]
  },
  {
   "cell_type": "markdown",
   "id": "509c0039-af10-4a29-98aa-e95f24356863",
   "metadata": {},
   "source": [
    "**Relative error is the same here for both cases, as there is only a single $(\\beta, p)$ pair**"
   ]
  },
  {
   "cell_type": "code",
   "execution_count": null,
   "id": "ae7fecaf-0741-4a63-bf4c-d4617a385ffd",
   "metadata": {},
   "outputs": [],
   "source": [
    "eps = calc_eps_error(beta, p)\n",
    "print(f'Relative error: {eps}')"
   ]
  },
  {
   "cell_type": "markdown",
   "id": "09752fe5-08b6-4c83-97ee-48c33d245a55",
   "metadata": {},
   "source": [
    "#### First variaton"
   ]
  },
  {
   "cell_type": "code",
   "execution_count": null,
   "id": "ae370793-5539-4e3b-a4d3-007032e7c994",
   "metadata": {},
   "outputs": [],
   "source": [
    "delta_1 = np.abs(eps * A1)\n",
    "print(f'Absolute error in the first case: {delta_1}')"
   ]
  },
  {
   "cell_type": "markdown",
   "id": "23ac06e0-57dc-4275-a44b-dc6cadde1856",
   "metadata": {},
   "source": [
    "#### Second variaton"
   ]
  },
  {
   "cell_type": "code",
   "execution_count": null,
   "id": "2d21931e-0519-4882-9d20-c5157cf42a7a",
   "metadata": {},
   "outputs": [],
   "source": [
    "delta_2 = np.abs(eps * A2)\n",
    "print(f'Absolute error in the second case: {delta_2}')"
   ]
  },
  {
   "cell_type": "markdown",
   "id": "3b007377-6ba2-4bfc-a52c-58f2ab19733a",
   "metadata": {},
   "source": [
    "#### Difference"
   ]
  },
  {
   "cell_type": "code",
   "execution_count": null,
   "id": "52025948-a78f-4c2a-9683-704da8d1d0e4",
   "metadata": {},
   "outputs": [],
   "source": [
    "print(f'Absoltue difference between errors: {np.abs(delta_2 - delta_1)}')"
   ]
  },
  {
   "cell_type": "code",
   "execution_count": null,
   "id": "3535bd5d-06fb-412a-9ad6-a426c509a6ca",
   "metadata": {},
   "outputs": [],
   "source": []
  }
 ],
 "metadata": {
  "kernelspec": {
   "display_name": "Python 3 (ipykernel)",
   "language": "python",
   "name": "python3"
  },
  "language_info": {
   "codemirror_mode": {
    "name": "ipython",
    "version": 3
   },
   "file_extension": ".py",
   "mimetype": "text/x-python",
   "name": "python",
   "nbconvert_exporter": "python",
   "pygments_lexer": "ipython3",
   "version": "3.11.6"
  }
 },
 "nbformat": 4,
 "nbformat_minor": 5
}
