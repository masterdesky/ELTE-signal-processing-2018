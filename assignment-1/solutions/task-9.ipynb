{
 "cells": [
  {
   "cell_type": "markdown",
   "id": "8e5c31a8-921b-4cd3-95b3-d3bebf9b4ec2",
   "metadata": {},
   "source": [
    "# Signal processing course 2018/2019-1 @ ELTE\n",
    "# Assignment 1\n",
    "## 09.17.2018"
   ]
  },
  {
   "cell_type": "markdown",
   "id": "51810466-27b5-4bfd-b75a-b268b09ffb30",
   "metadata": {},
   "source": [
    "## Task 9\n",
    "### Random number generator with shift-register and XOR\n",
    "\n",
    "The 128bit XorShift function (with period $2^{128}-1$) generates pseudo-random numbers with seeds $x, y, z, w$ in the following way in C language:\n",
    "\n",
    "```c\n",
    "u_int64 XorShift128(){\n",
    "    t=(x^(x<<a));\n",
    "    x=y;\n",
    "    y=z;\n",
    "    z=w;\n",
    "    return w=(w^(w>>c))^(t^(t>>b))\n",
    "}\n",
    "```\n",
    "\n",
    "The 160bit XorShift function (with period $2^{160}-1$), which generates pseudo-random numbers with seeds $x, y, z, w, v$, could be interpreted as follows:\n",
    "\n",
    "```c\n",
    "u_int64 XorShift160(){\n",
    "    t=(x^(x>>a));\n",
    "    x=y;\n",
    "    y=z;\n",
    "    z=w;\n",
    "    w=v;\n",
    "    return v=(v^(v>>c))^(t^(t>>b));\n",
    "}\n",
    "```\n",
    "\n",
    "Where `<<` and `>>` operators represent left and right bitwise shifts, respectively and the `^` operator represents the bitwise XOR.\n",
    "\n",
    "The $a, b, c$ variables are carefully selected triplets and vary between the different xorshift RNGs. In his [\"Xorshift RNGs\"](https://www.jstatsoft.org/article/view/v008i14) paper in 2003, George Marsaglia described *the best* triplets for some xorshift RNGs he examined. A couple relevant values for this task are listed below:\n",
    "\n",
    "$$\n",
    "[a,b,c]_{128} = \\left\\{ [5, 14, 1];\\ [15, 4, 21];\\ [23, 24, 3];\\ [5, 12, 29] \\right\\}\n",
    "$$\n",
    "\n",
    "$$\n",
    "[a,b,c]_{160} = \\left\\{ [2, 1, 4];\\ [7, 13, 6];\\ [1, 1, 20] \\right\\}\n",
    "$$\n"
   ]
  },
  {
   "cell_type": "code",
   "execution_count": null,
   "id": "859de393-b4f0-469f-b35c-76a505d99aea",
   "metadata": {},
   "outputs": [],
   "source": [
    "import numpy as np\n",
    "\n",
    "import seaborn as sns\n",
    "import matplotlib.cm as cm\n",
    "import matplotlib.pyplot as plt"
   ]
  },
  {
   "cell_type": "code",
   "execution_count": null,
   "id": "a3ad170b-9447-43d4-8c95-437203c7ea1a",
   "metadata": {},
   "outputs": [],
   "source": [
    "# Initialize seaborn with custom settings\n",
    "# Facecolor values from S. Conradi @S_Conradi/@profConradi\n",
    "custom_settings = {\n",
    "    'figure.facecolor': '#f4f0e8',\n",
    "    'axes.facecolor': '#f4f0e8',\n",
    "    'axes.edgecolor': '0.7',\n",
    "    'axes.linewidth' : '2',\n",
    "    'grid.color': '0.7',\n",
    "    'grid.linestyle': '--',\n",
    "    'grid.alpha': 0.6,\n",
    "}\n",
    "sns.set_theme(rc=custom_settings)"
   ]
  },
  {
   "cell_type": "markdown",
   "id": "4c643398-8dac-418f-bf79-07423a9a0d69",
   "metadata": {},
   "source": [
    "#### Number of random numbers to generate"
   ]
  },
  {
   "cell_type": "code",
   "execution_count": null,
   "id": "73441275-bf59-4b2b-b4b6-552542383824",
   "metadata": {},
   "outputs": [],
   "source": [
    "N = 5000"
   ]
  },
  {
   "cell_type": "markdown",
   "id": "ca3737d8-e9d8-4010-988b-54a3bf1f0ff8",
   "metadata": {},
   "source": [
    "### XorShift128\n",
    "#### Compose XorShift128 function as described above"
   ]
  },
  {
   "cell_type": "code",
   "execution_count": null,
   "id": "81fc73d0-fccc-4dda-bac3-33e2e96060b4",
   "metadata": {},
   "outputs": [],
   "source": [
    "def XorShift128(x, y, z, w, a, b, c):\n",
    "    '''\n",
    "    Implements a xorshift RNG algorithm with a period of 2^128-1, based\n",
    "    on the paper of Marsaglia \"Xorshift RNGs\".\n",
    "\n",
    "    The algorithm (and the best initial values) are listed on p.4 of the\n",
    "    paper.\n",
    "    '''\n",
    "    t = x ^ (x << a) & 0xFFFFFFFFFFFFFFFF  # Ensure 64-bit arithmetic\n",
    "    x = y\n",
    "    y = z\n",
    "    z = w\n",
    "    w = (w ^ (w >> c)) ^ (t ^ (t >> b))\n",
    "    # Return updated state and a 32-bit integer\n",
    "    return x, y, z, w, (w & 0xFFFFFFFF)"
   ]
  },
  {
   "cell_type": "markdown",
   "id": "ad648a35-2dcb-41bd-87b5-e0e55d7a4c8d",
   "metadata": {},
   "source": [
    "#### Define initial state of `XorShift128` and generate random numbers"
   ]
  },
  {
   "cell_type": "code",
   "execution_count": null,
   "id": "7707d297-715a-407e-a305-5fd90bc48bbd",
   "metadata": {},
   "outputs": [],
   "source": [
    "max_limit = 1e+04\n",
    "\n",
    "# Randomly define seeds for XorShift128\n",
    "x = np.random.randint(1, max_limit)\n",
    "y = np.random.randint(1, max_limit)\n",
    "z = np.random.randint(1, max_limit)\n",
    "w = np.random.randint(1, max_limit)\n",
    "# Define fine-tuned triplet for XorShift128\n",
    "a, b, c = 5, 14, 1\n",
    "\n",
    "x_128 = np.zeros(N, dtype=np.float32)\n",
    "for i in range(N):\n",
    "    x, y, z, w, x_128[i] = XorShift128(x=x, y=y, z=z, w=w, a=a, b=b, c=c)"
   ]
  },
  {
   "cell_type": "code",
   "execution_count": null,
   "id": "76fcc920-3f1f-411c-81dd-3f720b7cd3e1",
   "metadata": {},
   "outputs": [],
   "source": [
    "fig, ax = plt.subplots(figsize=(8, 4))\n",
    "\n",
    "sns.kdeplot(x_128, color='0.3', fill=True, ax=ax)\n",
    "\n",
    "ax.set_xlabel('Numbers', fontsize=14)\n",
    "ax.set_ylabel('Density', fontsize=14)\n",
    "ax.set_title('Fig. 1. Distribution of random numbers, by XorShift128()',\n",
    "             fontsize=14, y=-0.3)\n",
    "\n",
    "plt.show()"
   ]
  },
  {
   "cell_type": "markdown",
   "id": "b1bfd55d-6e8d-4912-98e1-f7f5abb0f108",
   "metadata": {},
   "source": [
    "### XorShift160\n",
    "#### Compose XorShift160 function as described above"
   ]
  },
  {
   "cell_type": "code",
   "execution_count": null,
   "id": "c30cd475-19bb-4aa3-9732-f472c0be489b",
   "metadata": {},
   "outputs": [],
   "source": [
    "def XorShift160(x, y, z, w, v, a, b, c):\n",
    "    '''\n",
    "    Implements a xorshift RNG algorithm with a period of 2^160-1, based\n",
    "    on the paper of Marsaglia \"Xorshift RNGs\".\n",
    "\n",
    "    The algorithm (and the best initial values) are listed on p.4 of the\n",
    "    paper.\n",
    "    '''\n",
    "    t = (x ^ (x << a)) & 0xFFFFFFFFFFFFFFFF  # Ensure 64-bit arithmetic\n",
    "    x = y\n",
    "    y = z\n",
    "    z = w\n",
    "    w = v\n",
    "    v = (v ^ (v >> c)) ^ (t ^ (t >> b))\n",
    "    # Return updated state and a 32-bit integer\n",
    "    return x, y, z, w, v, (v & 0xFFFFFFFF)"
   ]
  },
  {
   "cell_type": "markdown",
   "id": "347fb548-30be-47dc-9f99-5733bcd99241",
   "metadata": {},
   "source": [
    "#### Define initial state of `XorShift160` and generate random numbers"
   ]
  },
  {
   "cell_type": "code",
   "execution_count": null,
   "id": "b8a448fd-b782-4a7e-b407-7c62213fe026",
   "metadata": {},
   "outputs": [],
   "source": [
    "max_limit = 1e+8\n",
    "\n",
    "# Randomly define seeds for XorShift160\n",
    "x = np.random.randint(1, max_limit)\n",
    "y = np.random.randint(1, max_limit)\n",
    "z = np.random.randint(1, max_limit)\n",
    "w = np.random.randint(1, max_limit)\n",
    "v = np.random.randint(1, max_limit)\n",
    "# Define fine-tuned triplet for XorShift160\n",
    "a, b, c = 2, 1, 4\n",
    "\n",
    "x_160 = np.zeros(N, dtype=np.float32)\n",
    "for i in range(N):\n",
    "    x, y, z, w, v, x_160[i] = XorShift160(x=x, y=y, z=z, w=w, v=v, a=a, b=b, c=c)"
   ]
  },
  {
   "cell_type": "code",
   "execution_count": null,
   "id": "1a1e0398-c095-43fa-9753-f4b4e7a4c417",
   "metadata": {},
   "outputs": [],
   "source": [
    "fig, ax = plt.subplots(figsize=(8, 4))\n",
    "\n",
    "sns.kdeplot(x_160, color='0.3', fill=True, ax=ax)\n",
    "\n",
    "ax.set_xlabel('Numbers', fontsize=14)\n",
    "ax.set_ylabel('Density', fontsize=14)\n",
    "ax.set_title('Fig. 2. Distribution of random numbers, by XorShift160()',\n",
    "             fontsize=14, y=-0.3)\n",
    "\n",
    "plt.show()"
   ]
  },
  {
   "cell_type": "markdown",
   "id": "09fe0606-aa86-4e87-835b-8f76e03e5264",
   "metadata": {},
   "source": [
    "### Compare built-in RNGs\n",
    "#### 1. Python's standard `random.uniform()` funtion"
   ]
  },
  {
   "cell_type": "code",
   "execution_count": null,
   "id": "e758ac2f-acf1-467e-953e-286afabf1c87",
   "metadata": {},
   "outputs": [],
   "source": [
    "import random"
   ]
  },
  {
   "cell_type": "code",
   "execution_count": null,
   "id": "fff35743-9744-46c8-bf6b-6feb00326a87",
   "metadata": {},
   "outputs": [],
   "source": [
    "x_pru = np.zeros(N, dtype=np.float32)\n",
    "\n",
    "for i in range(N):\n",
    "    x_pru[i] = random.uniform(0, 5e9)"
   ]
  },
  {
   "cell_type": "code",
   "execution_count": null,
   "id": "a5e8b4d2-87f0-4763-ab96-c7a0158bbe7a",
   "metadata": {},
   "outputs": [],
   "source": [
    "fig, ax = plt.subplots(figsize=(8, 4))\n",
    "\n",
    "sns.kdeplot(x_pru, color='0.3', fill=True, ax=ax)\n",
    "\n",
    "ax.set_xlabel('Numbers', fontsize=14)\n",
    "ax.set_ylabel('Density', fontsize=14)\n",
    "ax.set_title('Fig. 3. Distribution of random numbers, by random.uniform()',\n",
    "             fontsize=14, y=-0.3)\n",
    "\n",
    "plt.show()"
   ]
  },
  {
   "cell_type": "markdown",
   "id": "10f2aaee-ee60-4afb-b2e1-0daeb0eee793",
   "metadata": {},
   "source": [
    "#### 2. Numpy's `numpy.random.uniform()` function"
   ]
  },
  {
   "cell_type": "code",
   "execution_count": null,
   "id": "b2bc778c-e709-4324-b255-44947e80f23f",
   "metadata": {},
   "outputs": [],
   "source": [
    "x_nru = np.random.uniform(0, 5e9, size=N)"
   ]
  },
  {
   "cell_type": "code",
   "execution_count": null,
   "id": "ca9700df-f9fb-4f78-ae29-db475a56d464",
   "metadata": {},
   "outputs": [],
   "source": [
    "fig, ax = plt.subplots(figsize=(8, 4))\n",
    "\n",
    "sns.kdeplot(x_nru, color='0.3', fill=True, ax=ax)\n",
    "\n",
    "ax.set_xlabel('Numbers', fontsize=14)\n",
    "ax.set_ylabel('Density', fontsize=14)\n",
    "ax.set_title('Fig. 4. Distribution of random numbers, by numpy.random.uniform()',\n",
    "             fontsize=14, y=-0.3)\n",
    "\n",
    "plt.show()"
   ]
  },
  {
   "cell_type": "markdown",
   "id": "2227c1db-612a-4b8a-bf42-4160021602ff",
   "metadata": {},
   "source": [
    "#### 3. Numpy's `numpy.random.randint()` finction"
   ]
  },
  {
   "cell_type": "code",
   "execution_count": null,
   "id": "8c3a1390-5c1d-473c-a9a9-2b6a003e2d19",
   "metadata": {},
   "outputs": [],
   "source": [
    "x_nri = np.random.randint(0, 5e9, size=N)"
   ]
  },
  {
   "cell_type": "code",
   "execution_count": null,
   "id": "94dc382e-616e-441e-82d4-f324f8f9c224",
   "metadata": {},
   "outputs": [],
   "source": [
    "fig, ax = plt.subplots(figsize=(8, 4))\n",
    "\n",
    "sns.kdeplot(x_nri, color='0.3', fill=True, ax=ax)\n",
    "\n",
    "ax.set_xlabel('Numbers', fontsize=14)\n",
    "ax.set_ylabel('Density', fontsize=14)\n",
    "ax.set_title('Fig. 5. Distribution of random numbers, by numpy.random.randint()',\n",
    "             fontsize=14, y=-0.3)\n",
    "\n",
    "plt.show()"
   ]
  },
  {
   "cell_type": "markdown",
   "id": "1e3cba31-f98e-4568-aee0-acc7e5a0e039",
   "metadata": {},
   "source": [
    "#### 4. Numpy's `numpy.random.normal()` function"
   ]
  },
  {
   "cell_type": "code",
   "execution_count": null,
   "id": "ebdf1525-82da-4438-bafe-3375fbc507ca",
   "metadata": {},
   "outputs": [],
   "source": [
    "x_nrn = np.random.normal(0, 5e9, size=N)"
   ]
  },
  {
   "cell_type": "code",
   "execution_count": null,
   "id": "0811b2a2-77ef-48a1-a08c-71778fcef528",
   "metadata": {},
   "outputs": [],
   "source": [
    "fig, ax = plt.subplots(figsize=(8, 4))\n",
    "\n",
    "sns.kdeplot(x_nrn, color='0.3', fill=True, ax=ax)\n",
    "\n",
    "ax.set_xlabel('Numbers', fontsize=14)\n",
    "ax.set_ylabel('Density', fontsize=14)\n",
    "ax.set_title('Fig. 6. Distribution of random numbers, by numpy.random.randint()',\n",
    "             fontsize=14, y=-0.3)\n",
    "\n",
    "plt.show()"
   ]
  },
  {
   "cell_type": "code",
   "execution_count": null,
   "id": "49540f58-2c32-47d4-b926-23c465770366",
   "metadata": {},
   "outputs": [],
   "source": []
  }
 ],
 "metadata": {
  "kernelspec": {
   "display_name": "Python 3 (ipykernel)",
   "language": "python",
   "name": "python3"
  },
  "language_info": {
   "codemirror_mode": {
    "name": "ipython",
    "version": 3
   },
   "file_extension": ".py",
   "mimetype": "text/x-python",
   "name": "python",
   "nbconvert_exporter": "python",
   "pygments_lexer": "ipython3",
   "version": "3.11.6"
  }
 },
 "nbformat": 4,
 "nbformat_minor": 5
}
