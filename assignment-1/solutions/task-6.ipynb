{
 "cells": [
  {
   "cell_type": "markdown",
   "id": "fc0d1553-c1ab-47cc-aeab-4de373e75d58",
   "metadata": {},
   "source": [
    "# Signal processing course 2018/2019-1 @ ELTE\n",
    "# Assignment 1\n",
    "## 09.17.2018"
   ]
  },
  {
   "cell_type": "markdown",
   "id": "4732dd45-974f-4cab-930f-aa3eea695874",
   "metadata": {},
   "source": [
    "## Task 6\n",
    "### Calculating the roots of a quadratic equation\n",
    "\n",
    "#### Cancellation\n",
    "Without a guard digit (see Task 3), the relative error committed when subtracting two nearby quantities can be very large. In other words, the evaluation of any expression containing a subtraction (or an addition of quantities with opposite signs) could result in a relative error so large that all the resulting digits are meaningless. When subtracting nearby quantities, the most significant digits in the operands match and cancel each other. There are two kinds of cancellation: catastrophic and benign.\n",
    "\n",
    "*Catastrophic cancellation* occurs when the operands are subject to rounding errors. For example in the quadratic formula, the expression \n",
    "\n",
    "$$\n",
    "b^{2} - 4ac\n",
    "$$\n",
    "\n",
    "occurs. The quantities $b^{2}$ and $4ac$ are subject to rounding errors since they are the results of floating-point multiplications. Suppose that they are rounded to the nearest floating-point number, and so are accurate to within 0.5 ULP (see Task 5). When they are subtracted, cancellation can cause many of the accurate digits to disappear, leaving behind mainly digits contaminated by rounding error. Hence the difference might have an error of many ULPs. For example, consider \n",
    "\n",
    "$$\n",
    "a = 1.22\n",
    "$$\n",
    "$$\n",
    "b = 3.34\n",
    "$$\n",
    "$$\n",
    "c = 2.28\n",
    "$$\n",
    "\n",
    "The exact value of $b^{2} - 4ac$ is $0.0292$. But $b^{2}$ rounds to $11.2$ and $4ac$ rounds to $11.1$, hence the final answer is $0.1$ which is an error by 70 ULPs, even though $11.2 - 11.1$ is exactly equal to $0.16$. The subtraction did not introduce any error, but rather exposed the error introduced in the earlier multiplications.\n",
    "\n",
    "*Benign cancellation* occurs when subtracting exactly known quantities. If x and y have no rounding error, then if the subtraction is done with a guard digit, the difference $x - y$ has a very small relative error (less than 2).\n",
    "\n",
    "A formula that exhibits catastrophic cancellation can sometimes be rearranged to eliminate the problem. Consider the quadratic formula (First formula):\n",
    "\n",
    "$$\n",
    "r_{1} = \\frac{-b + \\sqrt{b^{2} - 4ac}}{2a}\n",
    "$$\n",
    "$$\n",
    "r_{2} = \\frac{-b - \\sqrt{b^{2} - 4ac}}{2a}\n",
    "$$\n",
    "\n",
    "When $b^{2} \\gg ac$, then $b^{2} - 4ac$ does not involve a cancellation and\n",
    "\n",
    "$$\n",
    "\\sqrt{b^{2} - 4ac} \\approx \\left| b \\right|\n",
    "$$\n",
    "\n",
    "But the other addition (subtraction) in one of the formulas will have a catastrophic cancellation. To avoid this, multiply the numerator and denominator of $r_{1}$ and $r_{2}$ by\n",
    "\n",
    "$$\n",
    "-b - \\sqrt{b^{2} - 4ac}\n",
    "$$\n",
    "\n",
    "to obtain the Second formula:\n",
    "\n",
    "$$\n",
    "r_{1} = \\frac{2c}{-b - \\sqrt{b^{2} - 4ac}}\n",
    "$$\n",
    "$$\n",
    "r_{2} = \\frac{2c}{-b + \\sqrt{b^{2} - 4ac}}\n",
    "$$\n",
    "\n",
    "If $b^{2} \\gg ac$ and $b > 0$, then computing $r_{1}$ using the First formula will involve a cancellation. Therefore, use the Second formula for computing $r_{1}$ and the First formula for $r_{2}$. On the other hand, if $b < 0$, use the First formula for computing $r_{1}$ and the Second formula for $r_{2}$.\n"
   ]
  },
  {
   "cell_type": "code",
   "execution_count": null,
   "id": "d329a9da-7caa-4013-a698-b703cf2c6023",
   "metadata": {},
   "outputs": [],
   "source": [
    "import numpy as np"
   ]
  },
  {
   "cell_type": "markdown",
   "id": "b071d943-65a6-41b6-b449-03a53e6b33c7",
   "metadata": {},
   "source": [
    "#### Coefficients of the quadratic formula"
   ]
  },
  {
   "cell_type": "code",
   "execution_count": null,
   "id": "70abcbec-6f6d-42da-8070-8c24b5847268",
   "metadata": {},
   "outputs": [],
   "source": [
    "a = 1\n",
    "b = -1e+08\n",
    "c = 1"
   ]
  },
  {
   "cell_type": "markdown",
   "id": "fd750918-f4f3-4433-8e95-7df5b11ead13",
   "metadata": {},
   "source": [
    "#### Define the quadratic formula\n",
    "Write a function to calculate $r_{1}$ and $r_{2}$, whether $b < 0$ or $b \\geq 0$, using the two formulae above"
   ]
  },
  {
   "cell_type": "code",
   "execution_count": null,
   "id": "af534e55-c1da-402c-82d8-7663d4e68737",
   "metadata": {},
   "outputs": [],
   "source": [
    "def quad_solver(a, b, c):\n",
    "    '''\n",
    "    Implements the quadratic formula. Employs a different solving\n",
    "    strategy based on the sign of the `b` parameter.\n",
    "    '''\n",
    "    if b < 0:\n",
    "        r1 = (-b + np.sqrt(b*b - 4*a*c)) / (2*a)\n",
    "        r2 = (2*c) / (-b + np.sqrt(b**2 - 4*a*c))\n",
    "    else:\n",
    "        r1 = (2*c) / (-b - np.sqrt(b*b - 4*a*c))\n",
    "        r2 = (-b - np.sqrt(b*b - 4*a*c)) / (2*a)\n",
    "    return r1, r2"
   ]
  },
  {
   "cell_type": "code",
   "execution_count": null,
   "id": "4a4eca62-869d-41bc-8ef4-5c3121f0f6d0",
   "metadata": {
    "scrolled": true
   },
   "outputs": [],
   "source": [
    "r1, r2 = quad_solver(a, b, c)\n",
    "print(f'Root #1: {r1}')\n",
    "print(f'Root #2: {r2}')"
   ]
  },
  {
   "cell_type": "markdown",
   "id": "a371990a-a1e5-4a8c-bf57-97034ea4fb17",
   "metadata": {},
   "source": [
    "#### Verify result"
   ]
  },
  {
   "cell_type": "code",
   "execution_count": null,
   "id": "ab2dfbc3-90ab-4209-b7f7-98357f8263b8",
   "metadata": {},
   "outputs": [],
   "source": [
    "import decimal"
   ]
  },
  {
   "cell_type": "code",
   "execution_count": null,
   "id": "14066424-473c-47ff-a785-7333fefd1501",
   "metadata": {},
   "outputs": [],
   "source": [
    "# FROM TASK 3\n",
    "def smart_sum(*x, prec=64):\n",
    "    '''\n",
    "    Implements a smart summation function with arbitrary precision.\n",
    "\n",
    "    Parameters\n",
    "    ----------\n",
    "    *x : array-like\n",
    "        The list of signed values to be summed.\n",
    "    prec : int\n",
    "    '''\n",
    "    # Set precision of decimal\n",
    "    # Create a local context for decimal operations\n",
    "    decimal.getcontext().prec = prec\n",
    "    # Sum all values\n",
    "    # Convert inputs to string to keep precision on input\n",
    "    S = np.sum([decimal.Decimal(str(xi)) for xi in x])\n",
    "    # Result should be converted to string to display it correctly\n",
    "    return str(S)\n",
    "\n",
    "def smart_mult(*x, prec=64):\n",
    "    '''\n",
    "    Implements a smart multiplication function using the `decimal`\n",
    "    library with arbitrary precision.\n",
    "\n",
    "    Parameters\n",
    "    ----------\n",
    "    *x : array-like\n",
    "        The list of signed values to be multiplied.\n",
    "    prec : int\n",
    "        Precision of the multiplication.\n",
    "    '''\n",
    "    # Set precision of decimal\n",
    "    # Create a local context for decimal operations\n",
    "    decimal.getcontext().prec = prec\n",
    "    # Multiply all values\n",
    "    # Convert inputs to string to keep precision on input\n",
    "    P = np.prod([decimal.Decimal(str(xi)) for xi in x])\n",
    "    # Result should be converted to string to display it correctly\n",
    "    return str(P)"
   ]
  },
  {
   "cell_type": "markdown",
   "id": "4812ac77-a686-4fa5-a2bd-50ab2c91d496",
   "metadata": {},
   "source": [
    "**Should be very close to 0**"
   ]
  },
  {
   "cell_type": "code",
   "execution_count": null,
   "id": "508f63f6-5ed7-4cbe-a12f-34e642f7bc8e",
   "metadata": {
    "scrolled": true
   },
   "outputs": [],
   "source": [
    "print(f'ax^2 + bx + c with root #1: {smart_sum(smart_mult(a, r1, r1), smart_mult(b, r1), c)}')\n",
    "print(f'ax^2 + bx + c with root #2: {smart_sum(smart_mult(a, r2, r2), smart_mult(b, r2), c)}')"
   ]
  },
  {
   "cell_type": "markdown",
   "id": "99d7f251-389b-48f4-8172-d0c294e2d6b7",
   "metadata": {},
   "source": [
    "### Analytical solution\n",
    "Analytically, the roots are the following:\n",
    "\n",
    "$$\n",
    "x_{1,2} = -50\\ 000\\ 000 \\pm \\sqrt{2\\ 499\\ 999\\ 999\\ 999\\ 999}\n",
    "$$\n",
    "\n",
    "The non-zero digits are out of the range of the floating-point precision. The approximate value of the roots above, would be\n",
    "\n",
    "$$\n",
    "-50\\ 000\\ 000 + \\sqrt{2\\ 499\\ 999\\ 999\\ 999\\ 999} \\approx -1.000000000000000100000000000000020000000000000005000 \\dots \\times 10^{-8}\n",
    "$$\n",
    "\n",
    "$$\n",
    "-50\\ 000\\ 000 - \\sqrt{2\\ 499\\ 999\\ 999\\ 999\\ 999} \\approx -9.999999999999998999999999999999899999999999999980000 \\dots \\times 10^{7}\n",
    "$$"
   ]
  },
  {
   "cell_type": "code",
   "execution_count": null,
   "id": "8ea166ad-78c5-4a46-90d2-833f89405084",
   "metadata": {},
   "outputs": [],
   "source": []
  }
 ],
 "metadata": {
  "kernelspec": {
   "display_name": "Python 3 (ipykernel)",
   "language": "python",
   "name": "python3"
  },
  "language_info": {
   "codemirror_mode": {
    "name": "ipython",
    "version": 3
   },
   "file_extension": ".py",
   "mimetype": "text/x-python",
   "name": "python",
   "nbconvert_exporter": "python",
   "pygments_lexer": "ipython3",
   "version": "3.11.6"
  }
 },
 "nbformat": 4,
 "nbformat_minor": 5
}
