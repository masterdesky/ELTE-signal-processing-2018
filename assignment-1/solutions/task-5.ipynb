{
 "cells": [
  {
   "cell_type": "markdown",
   "id": "7e10dbc1-01db-4515-827f-a339f8633809",
   "metadata": {},
   "source": [
    "# Signal processing course 2018/2019-1 @ ELTE\n",
    "# Assignment 1\n",
    "## 09.17.2018"
   ]
  },
  {
   "cell_type": "markdown",
   "id": "493b703e-0835-4413-8aa3-16525a2b3447",
   "metadata": {},
   "source": [
    "## Task 5\n",
    "### Floating-point arithmetic\n",
    "\n",
    "##### Representaion\n",
    "\n",
    "We can represent floating point numbers [as follows](https://docs.oracle.com/cd/E19957-01/806-3568/ncg_goldberg.html):\n",
    "\n",
    "$$\n",
    "\\hat{z} = \\underbrace{\\pm d_{0}, d_{1}, d_{2}, \\cdots d_{p-1}}_\\text{Mantis/Significand} \\times {\\underbrace{\\beta}_\\text{Base}}^{\\overbrace{e}^\\text{Exp}} = \\pm \\left( \\sum^{p-1}_{i=0}  d_{i} \\beta^{-i} \\right) \\beta^{e}\n",
    "$$\n",
    "\n",
    "where, $p$ is the precision (number of floating-point digits), $i$ is the position of the bit of the significand from the left (starting at 0), $e$ is the exponent, and $0 \\leq d_{i} \\leq \\beta$.\n",
    "\n",
    "Two other parameters associated with floating-point representations are the largest and smallest allowable exponents, $e_{min}$ and $e_{max}$. Since there are $\\beta^{p}$ possible significands, and $e_{max} - e_{min} + 1$ possible exponents, a floating-point number can be encoded in\n",
    "\n",
    "$$\n",
    "1 + \\log_2(e_{max} - e_{min} + 1) + \\log_2(\\beta^{p})\n",
    "$$\n",
    "\n",
    "bits, where the first $1 +$ is for the sign bit.\n",
    "\n",
    "***\n",
    "\n",
    "##### Precision\n",
    "\n",
    "Machine precision is a quantity that characterizes the accuracy of a floating-point system, and is used in backward error analysis of floating-point algorithms. It is also known as unit roundoff or machine epsilon. Usually denoted $Ε_{mach}$, its value depends on the particular rounding being used.\n",
    "\n",
    "With rounding to zero\n",
    "\n",
    "$$\n",
    "Ε_{mach} = \\beta^{1-p}\n",
    "$$\n",
    "\n",
    "whereas rounding to nearest,\n",
    "\n",
    "$$\n",
    "Ε_{mach} = \\frac{1}{2} \\beta^{1-p}\n",
    "$$\n",
    "\n",
    "This is important since it bounds the relative error in representing any non-zero real number x within the normalized range of a floating-point system.\n",
    "\n",
    "To compute the relative error that corresponds to 0.5 ULP (unit in the last place or unit of least precision), observe that when a real number is approximated by the closest possible floating-point number\n",
    "\n",
    "$$\n",
    "d,d,d \\cdots d,d \\times \\beta^{e}\n",
    "$$\n",
    "\n",
    "the error can be as large as \n",
    "\n",
    "$$\n",
    "0,0,0 \\cdots 0,0 \\times \\beta' \\times \\beta^{e}\n",
    "$$\n",
    "\n",
    "where $\\beta'$ is the digit $\\frac{\\beta}{2}$, there are $p$ units in the significand of the floating-point number, and $p$ units of $0$ in the significand of the error. This error is\n",
    "\n",
    "$$\n",
    "\\left( \\left( \\frac{\\beta}{2} \\right) \\times \\beta^{-p} \\right) \\times \\beta^{e} = \\frac{1}{2} \\beta^{1-p} \\times \\beta^{e}\n",
    "$$\n",
    "\n",
    "Since numbers of the form \n",
    "\n",
    "$$\n",
    "d,d,d \\cdots d,d \\times \\beta^{e}\n",
    "$$ \n",
    "\n",
    "all have the same absolute error, but have values that range between $\\beta^{e}$ and $\\beta \\times \\beta^{e}$, the relative error ranges between \n",
    "\n",
    "$$\n",
    "\\left( \\left( \\frac{\\beta}{2} \\right) \\times \\beta^{-p} \\right) \\times \\frac{\\beta^{e}}{\\beta^{e + 1}} = \\frac{1}{2} \\beta^{-p}\n",
    "$$\n",
    "\n",
    "and\n",
    "\n",
    "$$\n",
    "\\left( \\left( \\frac{\\beta}{2} \\right) \\times \\beta^{-p} \\right) \\times \\frac{\\beta^{e}}{\\beta^{e}} = \\frac{1}{2} \\beta^{1-p}\n",
    "$$\n",
    "\n",
    "That is\n",
    "\n",
    "$$\n",
    "\\frac{1}{2} \\beta^{-p} \\leq \\Delta_{0.5ULP} \\leq \\frac{1}{2} \\beta^{1-p}\n",
    "$$\n",
    "\n",
    "Setting the relative error\n",
    "\n",
    "$$\n",
    "\\varepsilon = \\frac{1}{2} \\beta^{1-p}\n",
    "$$\n",
    "\n",
    "to the largest of the bounds like above, we can say that when a real number is rounded to the closest floating-point number, the relative error is always bounded by $\\varepsilon$, which is referred to as machine epsilon.\n",
    "\n",
    "The $\\Delta$ absolute error of a quantity $\\hat{z}$ could be calculated using the $\\varepsilon$ relative error as follows:\n",
    "\n",
    "$$\n",
    "\\Delta = \\varepsilon \\times \\hat{z}\n",
    "$$"
   ]
  },
  {
   "cell_type": "code",
   "execution_count": null,
   "id": "fa6b4f41-ae84-4834-97af-47f485c611f6",
   "metadata": {},
   "outputs": [],
   "source": [
    "import numpy as np"
   ]
  },
  {
   "cell_type": "markdown",
   "id": "4402901d-4e1f-4d0b-9085-a7e071c5a8a8",
   "metadata": {},
   "source": [
    "### Display a number in scientific notation"
   ]
  },
  {
   "cell_type": "code",
   "execution_count": null,
   "id": "9f82ef8d-393c-4c0d-bf65-b3dd2b80da90",
   "metadata": {},
   "outputs": [],
   "source": [
    "num_test = -3 * np.sqrt(7)"
   ]
  },
  {
   "cell_type": "code",
   "execution_count": null,
   "id": "ca16fa9c-fd1b-4f1a-a1b6-30ac9b9fdc47",
   "metadata": {},
   "outputs": [],
   "source": [
    "def scientific(num):\n",
    "    # Split the number into its components\n",
    "    num_str = f'{num:.6e}'\n",
    "    # Split the number into the coefficient and exponent parts\n",
    "    c, p = num_str.split('e')\n",
    "    # Return the formatted string\n",
    "    return f'{c}*10^{int(p)}'"
   ]
  },
  {
   "cell_type": "code",
   "execution_count": null,
   "id": "633bdd03-2473-4919-adbb-c3155326fd2a",
   "metadata": {},
   "outputs": [],
   "source": [
    "print(f'Simple notation: {num_test}')\n",
    "print(f'Scientific (normal) notation: {scientific(num_test)}')"
   ]
  },
  {
   "cell_type": "markdown",
   "id": "adfcab35-b4ed-4433-a2ee-ffe328593529",
   "metadata": {},
   "source": [
    "### Calculate relative and absolute errors"
   ]
  },
  {
   "cell_type": "code",
   "execution_count": null,
   "id": "77893b19-0905-47ff-8f2d-672c4f165f5f",
   "metadata": {},
   "outputs": [],
   "source": [
    "def calc_eps_error(beta, p):\n",
    "    return(1/2 * (1/beta**(abs(1-p))))"
   ]
  },
  {
   "cell_type": "markdown",
   "id": "c3d460fb-d3ca-4520-a543-7a6a277c3123",
   "metadata": {},
   "source": [
    "#### First variaton"
   ]
  },
  {
   "cell_type": "code",
   "execution_count": null,
   "id": "ae7fecaf-0741-4a63-bf4c-d4617a385ffd",
   "metadata": {},
   "outputs": [],
   "source": [
    "beta, p = 10, 2\n",
    "eps_1 = calc_eps_error(beta, p)\n",
    "print(f'Relative error in the first case: {eps_1}')"
   ]
  },
  {
   "cell_type": "code",
   "execution_count": null,
   "id": "ae370793-5539-4e3b-a4d3-007032e7c994",
   "metadata": {},
   "outputs": [],
   "source": [
    "delta_1 = np.abs(eps_1 * num_test)\n",
    "print(f'Absolute error in the first case: {delta_1}')"
   ]
  },
  {
   "cell_type": "markdown",
   "id": "5ca5680a-9b36-42dc-a5e5-980a3dbb0f59",
   "metadata": {},
   "source": [
    "#### Second variaton"
   ]
  },
  {
   "cell_type": "code",
   "execution_count": null,
   "id": "77accafd-6abf-46e0-aabb-d8aee485e63b",
   "metadata": {},
   "outputs": [],
   "source": [
    "beta, p = 16, 4\n",
    "eps_2 = calc_eps_error(beta, p)\n",
    "print(f'Relative error in the second case: {eps_2}')"
   ]
  },
  {
   "cell_type": "code",
   "execution_count": null,
   "id": "2d21931e-0519-4882-9d20-c5157cf42a7a",
   "metadata": {},
   "outputs": [],
   "source": [
    "delta_2 = np.abs(eps_2 * num_test)\n",
    "print(f'Absolute error in the second case: {delta_2}')"
   ]
  },
  {
   "cell_type": "code",
   "execution_count": null,
   "id": "68249b21-63f1-4a74-83f8-410e37869660",
   "metadata": {},
   "outputs": [],
   "source": []
  }
 ],
 "metadata": {
  "kernelspec": {
   "display_name": "Python 3 (ipykernel)",
   "language": "python",
   "name": "python3"
  },
  "language_info": {
   "codemirror_mode": {
    "name": "ipython",
    "version": 3
   },
   "file_extension": ".py",
   "mimetype": "text/x-python",
   "name": "python",
   "nbconvert_exporter": "python",
   "pygments_lexer": "ipython3",
   "version": "3.11.6"
  }
 },
 "nbformat": 4,
 "nbformat_minor": 5
}
