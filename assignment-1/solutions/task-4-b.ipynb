{
 "cells": [
  {
   "cell_type": "markdown",
   "id": "da6bc38b-5d9f-489f-a7c7-6949d705e9f1",
   "metadata": {},
   "source": [
    "# Signal processing course 2018/2019-1 @ ELTE\n",
    "# Assignment 1\n",
    "## 09.17.2018"
   ]
  },
  {
   "cell_type": "markdown",
   "id": "24d819d4-a032-4db8-94f0-865db5d6e9f7",
   "metadata": {},
   "source": [
    "## Task 4\n",
    "### b) Find the closest neighbour of each data point\n",
    "\n",
    "We should define a smart distance calculation method, as this step is the most memory-intensive in the naive approach. It is also necessary to utilize the vectorization capabilities of `numpy`.\n",
    "\n",
    "Here, I'll compare the **naive method**, where the Euclidean distance between each point-pairs are calculated, and a **smart approach**, where I'll use K-D Tree, a form of spatial indexing, used in a multitude of numerical problems."
   ]
  },
  {
   "cell_type": "code",
   "execution_count": null,
   "id": "28c223aa-d7d6-441c-b540-3c1d5668b225",
   "metadata": {},
   "outputs": [],
   "source": [
    "import numpy as np\n",
    "\n",
    "import seaborn as sns\n",
    "import matplotlib.cm as cm\n",
    "import matplotlib.pyplot as plt"
   ]
  },
  {
   "cell_type": "code",
   "execution_count": null,
   "id": "31411f79-fb2b-4a94-87a8-e112db88e727",
   "metadata": {},
   "outputs": [],
   "source": [
    "# Initialize seaborn with custom settings\n",
    "# Facecolor values from S. Conradi @S_Conradi/@profConradi\n",
    "custom_settings = {\n",
    "    'figure.facecolor': '#f4f0e8',\n",
    "    'axes.facecolor': '#f4f0e8',\n",
    "    'axes.edgecolor': '0.7',\n",
    "    'axes.linewidth' : '2',\n",
    "    'grid.color': '0.7',\n",
    "    'grid.linestyle': '--',\n",
    "    'grid.alpha': 0.6,\n",
    "}\n",
    "sns.set_theme(rc=custom_settings)"
   ]
  },
  {
   "cell_type": "markdown",
   "id": "d77adbf5-369c-4624-ae52-5ebe1d3da07c",
   "metadata": {},
   "source": [
    "#### Generate data points according to the uniform distribution"
   ]
  },
  {
   "cell_type": "code",
   "execution_count": null,
   "id": "477e605e-70a6-49fa-8172-e2353d12d67e",
   "metadata": {},
   "outputs": [],
   "source": [
    "# Number of data points\n",
    "N = 1000\n",
    "\n",
    "# Generate arrays for containing x and y coordinates\n",
    "xi = np.random.random(size=N)\n",
    "yi = np.random.random(size=N)\n",
    "\n",
    "# Coordinate vectors\n",
    "data = np.c_[xi, yi]"
   ]
  },
  {
   "cell_type": "markdown",
   "id": "1db9153e-fd62-45e3-90e9-d8a627e10502",
   "metadata": {},
   "source": [
    "### 1. Naive approach"
   ]
  },
  {
   "cell_type": "code",
   "execution_count": null,
   "id": "7e68f3cb-1a58-4b4a-aa73-9f1eb27a5cd5",
   "metadata": {},
   "outputs": [],
   "source": [
    "def closest_neighbour(data):\n",
    "    # `data.shape[0]` should be equal to `N`\n",
    "    nbour = np.ones(data.shape[0], dtype=int)\n",
    "    dists = np.ones(data.shape[0])\n",
    "    # Iterate over all points (vectors) in the data set\n",
    "    for i, vi in enumerate(data):\n",
    "        # Subtract all vectors from this one, except itself\n",
    "        # (THIS IS AN EXAMPLE OF USING THE VECTORIZATION IN NUMPY!)\n",
    "        # We use `axis=0`, because we want to delete an entire vector\n",
    "        data_sub = vi - np.delete(data, i, axis=0)\n",
    "        # Calculate the norm of each subtracted vector\n",
    "        # (THIS IS AN EXAMPLE OF USING THE VECTORIZATION IN NUMPY!)\n",
    "        # We use `axis=1`, because we want to norm for each vector\n",
    "        d = np.linalg.norm(data_sub, axis=1)\n",
    "        # Get the index of the closest neighbour\n",
    "        min_idx = np.argmin(d)\n",
    "        if min_idx >= i:\n",
    "            min_idx += 1  # Adjust index because of the removed element\n",
    "        nbour[i] = min_idx\n",
    "        # Get the distance of the closest neighbour\n",
    "        dists[i] = np.min(d)\n",
    "    return nbour, dists"
   ]
  },
  {
   "cell_type": "code",
   "execution_count": null,
   "id": "65d710f7-f0f4-4aed-9e3d-6ff075038da4",
   "metadata": {},
   "outputs": [],
   "source": [
    "%%time\n",
    "nbour, dists = closest_neighbour(data)"
   ]
  },
  {
   "cell_type": "code",
   "execution_count": null,
   "id": "786b8a14-dc14-4737-8689-a383703177e5",
   "metadata": {},
   "outputs": [],
   "source": [
    "fig, ax = plt.subplots()\n",
    "ax.set_aspect('equal')\n",
    "\n",
    "i = 100\n",
    "ax.scatter(*np.delete(data, [i, nbour[i]], axis=0).T, color='0.3')\n",
    "ax.scatter(*data[i].T, label='Target point', color='tab:red')\n",
    "ax.scatter(*data[nbour[i]].T, label='Closest neighbour', color='tab:green')\n",
    "\n",
    "ax.legend(fontsize=10)\n",
    "\n",
    "plt.show()"
   ]
  },
  {
   "cell_type": "code",
   "execution_count": null,
   "id": "89654156-3019-4b68-84e7-0a9b3a4ce7a6",
   "metadata": {},
   "outputs": [],
   "source": [
    "fig, ax = plt.subplots(figsize=(8, 4))\n",
    "\n",
    "sns.kdeplot(data=dists, color='0.3', fill=True, ax=ax)\n",
    "\n",
    "ax.set_xlabel('Distance to closest neighbour', fontsize=14)\n",
    "ax.set_ylabel('Density', fontsize=14)\n",
    "\n",
    "plt.show()"
   ]
  },
  {
   "cell_type": "code",
   "execution_count": null,
   "id": "ff9156c9-2b10-454b-a4a5-29e312604f37",
   "metadata": {},
   "outputs": [],
   "source": [
    "fig, ax = plt.subplots(figsize=(8, 4))\n",
    "\n",
    "sns.histplot(data=dists, color='0.3', kde=True, ax=ax)\n",
    "\n",
    "ax.set_xlabel('Distance to closest neighbour', fontsize=14)\n",
    "ax.set_ylabel('Count', fontsize=14)\n",
    "\n",
    "plt.show()"
   ]
  },
  {
   "cell_type": "markdown",
   "id": "07a7ff5c-1e66-451d-9b5c-683bd1822da9",
   "metadata": {},
   "source": [
    "### 2. Smart approach with K-D Tree (WIP)"
   ]
  },
  {
   "cell_type": "markdown",
   "id": "35e0bf8e-514f-47e4-bc47-5daa34ebbf1e",
   "metadata": {},
   "source": [
    "#### Implement K-D Tree"
   ]
  },
  {
   "cell_type": "code",
   "execution_count": null,
   "id": "c7cf398d-4059-4634-bf9f-10711b1d3b25",
   "metadata": {},
   "outputs": [],
   "source": [
    "class KDNode:\n",
    "    def __init__(self, point, axis, left=None, right=None):\n",
    "        self.point = point  # the point at the node\n",
    "        self.axis = axis    # axis of split, x=0, y=1, z=2, etc.\n",
    "        self.left = left    # left subtree\n",
    "        self.right = right  # right subtree\n",
    "\n",
    "def build_kdtree(points, depth=0):\n",
    "    n = len(points)\n",
    "    if n == 0:\n",
    "        return None\n",
    "\n",
    "    axis = depth % 2  # alternating between x and y axis\n",
    "    sorted_points = sorted(points, key=lambda point: point[axis])\n",
    "    median_index = n // 2\n",
    "\n",
    "    return KDNode(\n",
    "        point=sorted_points[median_index],\n",
    "        axis=axis,\n",
    "        left=build_kdtree(sorted_points[:median_index], depth + 1),\n",
    "        right=build_kdtree(sorted_points[median_index + 1:], depth + 1)\n",
    "    )"
   ]
  },
  {
   "cell_type": "code",
   "execution_count": null,
   "id": "2fe246d2-dddf-41c5-b84b-cdcdb6088c47",
   "metadata": {},
   "outputs": [],
   "source": []
  }
 ],
 "metadata": {
  "kernelspec": {
   "display_name": "Python 3 (ipykernel)",
   "language": "python",
   "name": "python3"
  },
  "language_info": {
   "codemirror_mode": {
    "name": "ipython",
    "version": 3
   },
   "file_extension": ".py",
   "mimetype": "text/x-python",
   "name": "python",
   "nbconvert_exporter": "python",
   "pygments_lexer": "ipython3",
   "version": "3.11.6"
  }
 },
 "nbformat": 4,
 "nbformat_minor": 5
}
