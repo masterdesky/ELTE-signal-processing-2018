{
 "cells": [
  {
   "cell_type": "markdown",
   "id": "bc0441a1-b42e-4f95-bcc3-57b034565702",
   "metadata": {},
   "source": [
    "# Signal processing course 2018/2019-1 @ ELTE\n",
    "# Assignment 2\n",
    "## 10.01.2018"
   ]
  },
  {
   "cell_type": "markdown",
   "id": "418deecc-92e4-4983-a053-70ca98cecc53",
   "metadata": {},
   "source": [
    "## Task 1\n",
    "### Addition of periodic signals\n",
    "#### Definition of periodicity\n",
    "\n",
    "A real function is said to be periodic if there exists a real number $P > 0$ so that $f(t+P) = f(t)$ for all $t$. In this case, the value $P$ is said to be a period of the function.\n",
    "\n",
    "The sum of two periodic functions is often periodic, but not always. Suppose that $x_{1}(t)$ is periodic with least period $T_{1}$, and $x_{2}(t)$ is periodic with least period $T_{2}$. If $T_{1}$ and $T_{2}$ have a common multiple $T$, then $x_{1}(t) + x_{2}(t)$ is periodic with period $T$. However, $T$ is not necessarily the *least* period of $x_{1}(t) + x_{2}(t)$.\n",
    "\n",
    "To give an extreme example\n",
    "\n",
    "$$\n",
    "\\sin(t) + \\left( -\\sin(t) \\right)\n",
    "$$\n",
    "\n",
    "has no least period."
   ]
  },
  {
   "cell_type": "markdown",
   "id": "5c8db141-1457-408b-8e41-1197a26ac7c8",
   "metadata": {},
   "source": [
    "#### Criterion for sum of periodic functions\n",
    "If the periods of two periodic functions do not have a common multiple, then their sum is not periodic. Perhaps the simplest example is \n",
    "\n",
    "$$\n",
    "\\sin(t) + \\sin(\\pi t)\n",
    "$$\n",
    "\n",
    "whose terms have least periods $2 \\pi$ and $2$ respectively"
   ]
  },
  {
   "cell_type": "code",
   "execution_count": null,
   "id": "168b580d-3edd-43f8-9810-90b5de02dc3e",
   "metadata": {},
   "outputs": [],
   "source": []
  }
 ],
 "metadata": {
  "kernelspec": {
   "display_name": "Python 3 (ipykernel)",
   "language": "python",
   "name": "python3"
  },
  "language_info": {
   "codemirror_mode": {
    "name": "ipython",
    "version": 3
   },
   "file_extension": ".py",
   "mimetype": "text/x-python",
   "name": "python",
   "nbconvert_exporter": "python",
   "pygments_lexer": "ipython3",
   "version": "3.11.6"
  }
 },
 "nbformat": 4,
 "nbformat_minor": 5
}
