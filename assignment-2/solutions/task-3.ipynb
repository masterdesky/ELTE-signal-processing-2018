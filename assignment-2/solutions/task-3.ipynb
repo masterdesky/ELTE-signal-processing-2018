{
 "cells": [
  {
   "cell_type": "markdown",
   "id": "d1523842-e6c4-46df-bed7-ff613b0f38b8",
   "metadata": {},
   "source": [
    "# Signal processing course 2018/2019-1 @ ELTE\n",
    "# Assignment 2\n",
    "## 10.01.2018"
   ]
  },
  {
   "cell_type": "markdown",
   "id": "66fc7993-d3ed-4eb7-b435-05d45d7436be",
   "metadata": {},
   "source": [
    "## Task 3"
   ]
  },
  {
   "cell_type": "code",
   "execution_count": null,
   "id": "85b8086b-f6d4-4fee-a4b0-5d699b208566",
   "metadata": {},
   "outputs": [],
   "source": [
    "import numpy as np\n",
    "\n",
    "import seaborn as sns\n",
    "import matplotlib.cm as cm\n",
    "import matplotlib.pyplot as plt"
   ]
  },
  {
   "cell_type": "code",
   "execution_count": null,
   "id": "398c02c4-ab6e-446a-a4ba-5c75e0267638",
   "metadata": {},
   "outputs": [],
   "source": [
    "# Initialize seaborn with custom settings\n",
    "# Facecolor values from S. Conradi @S_Conradi/@profConradi\n",
    "custom_settings = {\n",
    "    'figure.facecolor': '#f4f0e8',\n",
    "    'axes.facecolor': '#f4f0e8',\n",
    "    'axes.edgecolor': '0.7',\n",
    "    'axes.linewidth' : '2',\n",
    "    'grid.color': '0.7',\n",
    "    'grid.linestyle': '--',\n",
    "    'grid.alpha': 0.6,\n",
    "}\n",
    "sns.set_theme(palette=sns.color_palette('deep', as_cmap=False),\n",
    "              rc=custom_settings)"
   ]
  },
  {
   "cell_type": "markdown",
   "id": "883d0bc4-ad88-47a7-9ce0-83bfce1e75bc",
   "metadata": {},
   "source": [
    "### Calculate Fourier coefficients"
   ]
  },
  {
   "cell_type": "code",
   "execution_count": null,
   "id": "12adffc6-f023-4c59-a967-6953edaad22f",
   "metadata": {},
   "outputs": [],
   "source": [
    "from scipy.integrate import quad"
   ]
  },
  {
   "cell_type": "code",
   "execution_count": null,
   "id": "b29eff75-fbfc-4d12-b2b2-2fc0f763dda5",
   "metadata": {},
   "outputs": [],
   "source": [
    "def fourier_coeffs(f, T, N, t0=0, *args):\n",
    "    '''\n",
    "    Calculates the Fourier coefficients :math:`a_k`, :math:`b_k` up to\n",
    "    an arbitrary order :math:`N` for a given periodic signal using\n",
    "    numerical integration.\n",
    "\n",
    "    Parameters\n",
    "    ----------\n",
    "    f : callable\n",
    "        The target periodic function\n",
    "    T : float\n",
    "        Period of the function\n",
    "    N : int\n",
    "        The highest order of harmonics to be considered in the\n",
    "        approximation\n",
    "    t0 : float\n",
    "        The starting point of the period (default is 0)\n",
    "    args : tuple, optional\n",
    "        Extra arguments to pass to `f` inside the lambda func. Should\n",
    "        not be confused with the optional `args` argument of\n",
    "        `scipy.integrate.quad()` inside the decorator functions.\n",
    "    '''\n",
    "    # Employ the substitution defined above\n",
    "    w0 = 2*np.pi / T\n",
    "\n",
    "    def a_k(k):\n",
    "        ''' Function to integrate for a_k '''\n",
    "        func = lambda t: f(t, *args) * np.cos(k * t * w0)\n",
    "        return quad(func, t0, t0 + T)[0] * 2 / T\n",
    "\n",
    "    def b_k(k):\n",
    "        ''' Function to integrate for b_k '''\n",
    "        func = lambda t: f(t, *args) * np.sin(k * t * w0)\n",
    "        return quad(func, t0, t0 + T)[0] * 2 / T\n",
    "\n",
    "    a = np.array([a_k(k) for k in range(N)])\n",
    "    b = np.array([b_k(k) for k in range(N)])  # note: `b_0` is always 0\n",
    "    return a, b"
   ]
  },
  {
   "cell_type": "markdown",
   "id": "07387b3b-e5ab-477f-b77b-eb6445d5901c",
   "metadata": {},
   "source": [
    "### Calculate Fourier series partial sum"
   ]
  },
  {
   "cell_type": "code",
   "execution_count": null,
   "id": "e66f7d42-9869-4056-8398-05049ceae32b",
   "metadata": {},
   "outputs": [],
   "source": [
    "def fourier_sin(t, a, b, N, T, fs=128):\n",
    "    '''\n",
    "    Approximates a target periodic :math:`f_N(t)` function using the\n",
    "    sine-cosine form of the Fourier series in the interval\n",
    "    :math:`[t_0, t_0+T]`.\n",
    "\n",
    "    Parameters\n",
    "    ----------\n",
    "    t : float or array-like\n",
    "        Sampling times corresponding to the evaluated signal\n",
    "    a : array-like\n",
    "        List of :math:`a_k` coefficients\n",
    "    b : array-like\n",
    "        List of :math:`b_k` coefficients\n",
    "    N : int\n",
    "        The highest order of harmonics to be considered in the\n",
    "        approximation\n",
    "    T : float\n",
    "        Period of the evaluated function\n",
    "    fs : float\n",
    "        Sampling frequency of the evaluated function\n",
    "    '''\n",
    "    # Do not enable larger values for N than the number of values in the\n",
    "    # input `a` or `b` arrays. Also prevent N < 1 values.\n",
    "    assert (N >= 1) | (len(a) >= 1), 'N should be larger than or equal to 1!'\n",
    "    N = np.min((N, len(a)))\n",
    "\n",
    "    # Handle both scalar and array inputs\n",
    "    FCHECK = np.isscalar(t)\n",
    "    if FCHECK:\n",
    "        t = np.array([t])\n",
    "\n",
    "    # Employ the substitution P(t) = w0 * t\n",
    "    P = 2*np.pi / T * t\n",
    "    # Calculate the approximation up to an order N\n",
    "    fN = np.zeros_like(t, dtype=float) + a[0]/2\n",
    "    for k in range(1, N):\n",
    "        fN += a[k] * np.cos(P * k) + b[k] * np.sin(P * k)\n",
    "\n",
    "    if FCHECK:\n",
    "        return fN[0]\n",
    "    return fN"
   ]
  },
  {
   "cell_type": "code",
   "execution_count": null,
   "id": "abe75885-b71f-4bd1-9175-4e186a95fc91",
   "metadata": {},
   "outputs": [],
   "source": [
    "def c_k(k, a, b):\n",
    "    '''\n",
    "    Calculates the conditional value of :math:`c_k` from its definition.\n",
    "\n",
    "    Parameters\n",
    "    ----------\n",
    "    k : int\n",
    "        The respective value of the :math:`k` running index\n",
    "    a : array-like\n",
    "        List of :math:`a_k` coefficients\n",
    "    b : array-like\n",
    "        List of :math:`b_k` coefficients\n",
    "    '''\n",
    "    if k > 0:\n",
    "        return 0.5 * (a[k] - 1j * b[k])\n",
    "    elif k == 0:\n",
    "        return 0.5 * a[0]\n",
    "    elif k < 0:\n",
    "        return 0.5 * (a[k] + 1j * b[k])"
   ]
  },
  {
   "cell_type": "code",
   "execution_count": null,
   "id": "013f8f77-dde9-49cf-8a3a-3c7415a370ce",
   "metadata": {},
   "outputs": [],
   "source": [
    "def fourier_exp(t, a, b, N, T, fs=128):\n",
    "    '''\n",
    "    Approximates a target periodic :math:`f_N(t)` function using the\n",
    "    exponential form of the Fourier series in the interval\n",
    "    :math:`[t_0, t_0+T]`.\n",
    "\n",
    "    Parameters\n",
    "    ----------\n",
    "    t : float or array-like\n",
    "        Sampling times corresponding to the evaluated signal\n",
    "    a : array-like\n",
    "        List of :math:`a_k` coefficients\n",
    "    b : array-like\n",
    "        List of :math:`b_k` coefficients\n",
    "    N : int\n",
    "        The highest order of harmonics to be considered in the\n",
    "        approximation\n",
    "    T : float\n",
    "        Period of the evaluated function\n",
    "    fs : float\n",
    "        Sampling frequency of the evaluated function\n",
    "    '''\n",
    "    # Do not enable larger values for N than the number of values in the\n",
    "    # input `a` or `b` arrays. Also prevent N < 1 values.\n",
    "    assert (N >= 1) | (len(a) >= 1), 'N should be larger than or equal to 1!'\n",
    "    N = np.min((N, len(a)))\n",
    "\n",
    "    # Handle both scalar and array inputs\n",
    "    FCHECK = np.isscalar(t)\n",
    "    if FCHECK:\n",
    "        t = np.array([t])\n",
    "\n",
    "    # Employ the substitution P(t) = i * w0 * t\n",
    "    P = 1j * 2*np.pi / T * t\n",
    "    # Sum over 2N+1 number of `k` indices, running between ]-N -> N[\n",
    "    fN = np.zeros_like(t, dtype=np.complex128)\n",
    "    for k in range(-N+1, N):\n",
    "        fN += c_k(k, a, b) * np.exp(P * k)\n",
    "\n",
    "    if FCHECK:\n",
    "        return fN[0]\n",
    "    return fN"
   ]
  },
  {
   "cell_type": "markdown",
   "id": "927c3941-4ad6-458b-ae17-41aebd713afd",
   "metadata": {},
   "source": [
    "### Testing Fourier series on various functions\n",
    "#### Common hyperparameters"
   ]
  },
  {
   "cell_type": "code",
   "execution_count": null,
   "id": "48acb68f-7586-4a8a-a070-89cc030a35ef",
   "metadata": {},
   "outputs": [],
   "source": [
    "fs = 256  # Sampling rate for signals\n",
    "N = 50    # Highest order of harmonics considered"
   ]
  },
  {
   "cell_type": "markdown",
   "id": "e0c1f646-f933-4c80-950d-0d88a307f054",
   "metadata": {},
   "source": [
    "#### 1) Square wave\n",
    "\n",
    "The definition of a periodic square wave signal with $\\tau$ bandwidth, $T$ period, $A$ amplitude and $\\phi$ phase shift is\n",
    "$$\n",
    "    f(t)\n",
    "    =\n",
    "    \\begin{cases}\n",
    "        A, & \\left| (t - \\phi) \\bmod T \\right| \\leq \\frac{\\tau}{2} \\\\\n",
    "        0, & \\left| (t - \\phi) \\bmod T \\right| > \\frac{\\tau}{2}\n",
    "    \\end{cases}\n",
    "    \\qquad\n",
    "    t \\in \\left] -\\frac{T}{2}, \\frac{T}{2} \\right].\n",
    "$$"
   ]
  },
  {
   "cell_type": "code",
   "execution_count": null,
   "id": "fec26b1d-0ebb-4fdc-a27d-1ac9c8a98059",
   "metadata": {},
   "outputs": [],
   "source": [
    "def f1(t, tau, T, phi=0):\n",
    "    '''\n",
    "    Generate a square wave signal with a bandwidth of :math:`\\tau`, a\n",
    "    period of :math:`T`, an amplitude of ::math:`1` and a phase shift\n",
    "    of :math:`\\phi`.\n",
    "\n",
    "    Parameters\n",
    "    ----------\n",
    "    t : float or array-like\n",
    "        Sampling times corresponding to the evaluated signal\n",
    "    tau : float\n",
    "        Bandwidth of the generated square wave signal\n",
    "    T : float\n",
    "        Period of the output signal\n",
    "    phi : float\n",
    "        Phase shift of the output signal\n",
    "\n",
    "    Returns\n",
    "    -------\n",
    "    x : numpy.array\n",
    "        The evaluated signal at `t` time points\n",
    "    '''\n",
    "    # Handle both scalar and array inputs\n",
    "    FCHECK = np.isscalar(t)\n",
    "    if FCHECK:\n",
    "        t = np.array([t])\n",
    "\n",
    "    t = (t - phi + T/2)%T - T/2  # Apply periodicity and phase shift\n",
    "    x = np.abs(t)\n",
    "    mask = (x <= tau/2)          # Apply definition of square wave\n",
    "    x[mask] = 1                  # t - phi <= tau/2 --> A = 1\n",
    "    x[~mask] = 0                 # t - phi >  tau/2 --> A = 0\n",
    "\n",
    "    if FCHECK:\n",
    "        return x[0]\n",
    "    return x"
   ]
  },
  {
   "cell_type": "code",
   "execution_count": null,
   "id": "9dfdd266-3a32-449e-82f1-d8f3ae5668a8",
   "metadata": {},
   "outputs": [],
   "source": [
    "# Function-dependent extra parameters\n",
    "tau = np.pi  # Bandwidth of square waves\n",
    "T = 2*np.pi  # Period\n",
    "phi = 0      # Phase shift\n",
    "# Sampling locations corresponding to the evaluated signal\n",
    "t = np.linspace(-T, T, endpoint=False, num=fs)"
   ]
  },
  {
   "cell_type": "code",
   "execution_count": null,
   "id": "b6cc5e03-d7af-4a62-adb5-9919b583678d",
   "metadata": {},
   "outputs": [],
   "source": [
    "fig, ax = plt.subplots()\n",
    "\n",
    "ax.plot(t, f1(t, tau, T, phi), color='0.3', lw=4)\n",
    "ax.set_xlabel('Time', fontsize=14)\n",
    "ax.set_ylabel('Amplitude', fontsize=14)\n",
    "\n",
    "plt.show()"
   ]
  },
  {
   "cell_type": "code",
   "execution_count": null,
   "id": "f768ba30-115a-4d6b-affe-706c93be2ade",
   "metadata": {},
   "outputs": [],
   "source": [
    "# Calculate Fourier coefficients\n",
    "args = (tau, T, phi)\n",
    "a, b = fourier_coeffs(f1, T, N, 0, *args)"
   ]
  },
  {
   "cell_type": "code",
   "execution_count": null,
   "id": "eed8aa78-8e6c-427c-86af-98c7095a9172",
   "metadata": {},
   "outputs": [],
   "source": [
    "fig, ax = plt.subplots()\n",
    "\n",
    "ax.plot(t, f1(t, tau, T, phi), color='red', lw=4, alpha=1.0)\n",
    "for ni in [30, 7, 3]:\n",
    "    ax.plot(t, fourier_sin(t, a, b, N=ni, T=T, fs=fs),\n",
    "            label=f'{ni}th order', lw=2, alpha=0.9)\n",
    "\n",
    "ax.set_xlabel('Time', fontsize=14)\n",
    "ax.set_ylabel('Amplitude', fontsize=14)\n",
    "ax.set_ylim(None, ax.get_ylim()[1]*1.1)\n",
    "\n",
    "ax.legend(loc='upper center', ncol=3)\n",
    "\n",
    "plt.show()"
   ]
  },
  {
   "cell_type": "markdown",
   "id": "17a7b8d8-a6c8-4c85-8dc2-9bae25d7dd56",
   "metadata": {},
   "source": [
    "#### 2) Sawtooth wave\n",
    "\n",
    "The generalized definition of a periodic sawtooth wave with $T$ period and $\\phi$ phase shift is\n",
    "\n",
    "$$\n",
    "    f(t)\n",
    "    =\n",
    "    2 \\left( \\frac{t}{T} - \\left\\lfloor \\frac{1}{2} + \\frac{t}{T} \\right\\rfloor \\right),\n",
    "$$\n",
    "\n",
    "where $\\lfloor \\dots \\rfloor$ is the floor function."
   ]
  },
  {
   "cell_type": "code",
   "execution_count": null,
   "id": "0bef235f-a5c6-4100-833d-6211e858b19e",
   "metadata": {},
   "outputs": [],
   "source": [
    "def f2(t, T, phi=0):\n",
    "    '''\n",
    "    Generate a sawtooth wave signal with a period of :math:`T`, an\n",
    "    amplitude of ::math:`1` and a phase shift of :math:`\\phi`.\n",
    "\n",
    "    Parameters\n",
    "    ----------\n",
    "    t : float or array-like\n",
    "        Sampling times corresponding to the evaluated signal\n",
    "    T : float\n",
    "        Period of the output signal\n",
    "    phi : float\n",
    "        Phase shift of the output signal\n",
    "\n",
    "    Returns\n",
    "    -------\n",
    "    x : numpy.array\n",
    "        The evaluated signal at `t` time points\n",
    "    '''\n",
    "    # Handle both scalar and array inputs\n",
    "    FCHECK = np.isscalar(t)\n",
    "    if FCHECK:\n",
    "        t = np.array([t])\n",
    "\n",
    "    t = (t - phi + T/2)%T - T/2\n",
    "    x = 2 * (t / T - np.floor(1/2 + t/T))\n",
    "\n",
    "    if FCHECK:\n",
    "        return x[0]\n",
    "    return x"
   ]
  },
  {
   "cell_type": "code",
   "execution_count": null,
   "id": "9ae5981c-70a2-4f8a-8fa0-65057996f94b",
   "metadata": {},
   "outputs": [],
   "source": [
    "# Function-dependent extra parameters\n",
    "T = 2*np.pi  # Period\n",
    "phi = 0      # Phase shift\n",
    "# Sampling locations corresponding to the evaluated signal\n",
    "t = np.linspace(-T, T, endpoint=False, num=fs)"
   ]
  },
  {
   "cell_type": "code",
   "execution_count": null,
   "id": "d9390d29-c5dd-428a-a833-21e6dbd39ea9",
   "metadata": {},
   "outputs": [],
   "source": [
    "fig, ax = plt.subplots()\n",
    "\n",
    "ax.plot(t, f2(t, T, phi), color='0.3', lw=4)\n",
    "ax.set_xlabel('Time', fontsize=14)\n",
    "ax.set_ylabel('Amplitude', fontsize=14)\n",
    "\n",
    "plt.show()"
   ]
  },
  {
   "cell_type": "code",
   "execution_count": null,
   "id": "e888cd1d-361f-4e09-bac9-2673c0877456",
   "metadata": {},
   "outputs": [],
   "source": [
    "# Calculate Fourier coefficients\n",
    "args = (T, phi)\n",
    "a, b = fourier_coeffs(f2, T, N, 0, *args)"
   ]
  },
  {
   "cell_type": "code",
   "execution_count": null,
   "id": "6a108b56-edd4-4942-81aa-8135b8c96797",
   "metadata": {},
   "outputs": [],
   "source": [
    "fig, ax = plt.subplots()\n",
    "\n",
    "ax.plot(t, f2(t, T, phi), color='red', lw=4, alpha=1.0)\n",
    "for ni in [30, 7, 3]:\n",
    "    ax.plot(t, fourier_sin(t, a, b, N=ni, T=T, fs=fs),\n",
    "            label=f'{ni}th order', lw=2, alpha=0.9)\n",
    "\n",
    "ax.set_xlabel('Time', fontsize=14)\n",
    "ax.set_ylabel('Amplitude', fontsize=14)\n",
    "ax.set_ylim(None, ax.get_ylim()[1]*1.15)\n",
    "\n",
    "ax.legend(loc='upper center', ncol=3)\n",
    "\n",
    "plt.show()"
   ]
  },
  {
   "cell_type": "markdown",
   "id": "dafd3548-2074-4860-bb73-04b4338a3ceb",
   "metadata": {},
   "source": [
    "#### 3) \"Periodic\" absolute value function $-$ Triangle wave\n",
    "\n",
    "In this section we consider a periodic, triangle wave-like function with a phase shift defined by\n",
    "\n",
    "$$\n",
    "    f(t)\n",
    "    =\n",
    "    \\left| (t - \\phi) \\bmod T \\right|\n",
    "    \\qquad\n",
    "    t \\in \\left[ -\\pi, \\pi \\right].\n",
    "$$"
   ]
  },
  {
   "cell_type": "code",
   "execution_count": null,
   "id": "3a7f2867-aca9-4fbe-a127-88e8ae9127ca",
   "metadata": {},
   "outputs": [],
   "source": [
    "def f3(t, T, phi=0):\n",
    "    '''\n",
    "    Generate a triangle wave signal with a period of :math:`T`, an\n",
    "    amplitude of ::math:`T/2` and a phase shift of :math:`\\phi`.\n",
    "\n",
    "    Parameters\n",
    "    ----------\n",
    "    t : float or array-like\n",
    "        Sampling times corresponding to the evaluated signal\n",
    "    T : float\n",
    "        Period of the output signal\n",
    "    phi : float\n",
    "        Phase shift of the output signal\n",
    "\n",
    "    Returns\n",
    "    -------\n",
    "    x : numpy.array\n",
    "        The evaluated signal at `t` time points\n",
    "    '''\n",
    "    # Handle both scalar and array inputs\n",
    "    FCHECK = np.isscalar(t)\n",
    "    if FCHECK:\n",
    "        t = np.array([t])\n",
    "\n",
    "    t = (t - phi + T/2)%T - T/2\n",
    "    x = np.abs(t)\n",
    "\n",
    "    if FCHECK:\n",
    "        return x[0]\n",
    "    return x"
   ]
  },
  {
   "cell_type": "code",
   "execution_count": null,
   "id": "c6904e98-9dfd-400d-a975-423e7eac2665",
   "metadata": {},
   "outputs": [],
   "source": [
    "# Function-dependent extra parameters\n",
    "T = 2*np.pi  # Period\n",
    "phi = 0      # Phase shift\n",
    "# Sampling locations corresponding to the evaluated signal\n",
    "t = np.linspace(-T, T, endpoint=False, num=fs)"
   ]
  },
  {
   "cell_type": "code",
   "execution_count": null,
   "id": "76080ee1-8b54-44bd-8be6-d774f2a73380",
   "metadata": {},
   "outputs": [],
   "source": [
    "fig, ax = plt.subplots()\n",
    "\n",
    "ax.plot(t, f3(t, T, phi), color='0.3', lw=4)\n",
    "ax.set_xlabel('Time', fontsize=14)\n",
    "ax.set_ylabel('Amplitude', fontsize=14)\n",
    "\n",
    "plt.show()"
   ]
  },
  {
   "cell_type": "code",
   "execution_count": null,
   "id": "eaa81137-efc6-4f52-a067-e4c8e88e2277",
   "metadata": {},
   "outputs": [],
   "source": [
    "# Calculate Fourier coefficients\n",
    "args = (T, phi)\n",
    "a, b = fourier_coeffs(f3, T, N, 0, *args)"
   ]
  },
  {
   "cell_type": "code",
   "execution_count": null,
   "id": "8bdd0b60-f15b-44b0-a89c-736ebccbfd58",
   "metadata": {},
   "outputs": [],
   "source": [
    "fig, ax = plt.subplots()\n",
    "\n",
    "ax.plot(t, f3(t, T, phi), color='red', lw=4, alpha=1.0)\n",
    "for ni in [30, 7, 3]:\n",
    "    ax.plot(t, fourier_sin(t, a, b, N=ni, T=T, fs=fs),\n",
    "            label=f'{ni}th order', lw=2, alpha=0.9)\n",
    "\n",
    "ax.set_xlabel('Time', fontsize=14)\n",
    "ax.set_ylabel('Amplitude', fontsize=14)\n",
    "ax.set_ylim(None, ax.get_ylim()[1]*1.15)\n",
    "\n",
    "ax.legend(loc='upper center', ncol=3)\n",
    "\n",
    "plt.show()"
   ]
  },
  {
   "cell_type": "markdown",
   "id": "f8fa5936-fba9-41ee-bc51-5aa1f6d8a4bb",
   "metadata": {},
   "source": [
    "#### 4) Shifted sawtooth\n",
    "\n",
    "In this section we consider a sawtooth-like periodic function with a phase shift defined by\n",
    "\n",
    "$$\n",
    "    f(t)\n",
    "    =\n",
    "    1 +  \\left( t - \\phi \\right) \\bmod T\n",
    "    \\qquad\n",
    "    t \\in \\left[ -\\pi, \\pi \\right].\n",
    "$$"
   ]
  },
  {
   "cell_type": "code",
   "execution_count": null,
   "id": "44c40c42-03b5-48ee-9241-2e5ef7d033c0",
   "metadata": {},
   "outputs": [],
   "source": [
    "def f4(t, T, phi=0):\n",
    "    '''\n",
    "    Generate a sawtooth-like signal with a period of :math:`T`, an\n",
    "    amplitude of ::math:`T/2` and a phase shift of :math:`\\phi`.\n",
    "\n",
    "    Parameters\n",
    "    ----------\n",
    "    t : float or array-like\n",
    "        Sampling times corresponding to the evaluated signal\n",
    "    T : float\n",
    "        Period of the output signal\n",
    "    phi : float\n",
    "        Phase shift of the output signal\n",
    "\n",
    "    Returns\n",
    "    -------\n",
    "    x : numpy.array\n",
    "        The evaluated signal at `t` time points\n",
    "    '''\n",
    "    # Handle both scalar and array inputs\n",
    "    FCHECK = np.isscalar(t)\n",
    "    if FCHECK:\n",
    "        t = np.array([t])\n",
    "\n",
    "    t = (t - phi + T/2)%T - T/2\n",
    "    x = 1 + t\n",
    "\n",
    "    if FCHECK:\n",
    "        return x[0]\n",
    "    return x"
   ]
  },
  {
   "cell_type": "code",
   "execution_count": null,
   "id": "c74520d2-0ceb-4367-83f8-4808a6b44a4a",
   "metadata": {},
   "outputs": [],
   "source": [
    "# Function-dependent extra parameters\n",
    "T = 2*np.pi  # Period\n",
    "phi = 0      # Phase shift\n",
    "# Sampling locations corresponding to the evaluated signal\n",
    "t = np.linspace(-T, T, endpoint=False, num=fs)"
   ]
  },
  {
   "cell_type": "code",
   "execution_count": null,
   "id": "cb4a6f20-3af0-4c4f-bac1-72769b92ce4c",
   "metadata": {},
   "outputs": [],
   "source": [
    "fig, ax = plt.subplots()\n",
    "\n",
    "ax.plot(t, f4(t, T, phi), color='0.3', lw=4)\n",
    "ax.set_xlabel('Time', fontsize=14)\n",
    "ax.set_ylabel('Amplitude', fontsize=14)\n",
    "\n",
    "plt.show()"
   ]
  },
  {
   "cell_type": "code",
   "execution_count": null,
   "id": "2250dd2a-5085-4e42-bcf0-6ede3ac73e2b",
   "metadata": {},
   "outputs": [],
   "source": [
    "# Calculate Fourier coefficients\n",
    "args = (T, phi)\n",
    "a, b = fourier_coeffs(f4, T, N, 0, *args)"
   ]
  },
  {
   "cell_type": "code",
   "execution_count": null,
   "id": "949d482e-76ea-4718-85e1-3b7213a7b3ae",
   "metadata": {},
   "outputs": [],
   "source": [
    "fig, ax = plt.subplots()\n",
    "\n",
    "ax.plot(t, f4(t, T, phi), color='red', lw=4, alpha=1.0)\n",
    "for ni in [30, 7, 3]:\n",
    "    ax.plot(t, fourier_sin(t, a, b, N=ni, T=T, fs=fs),\n",
    "            label=f'{ni}th order', lw=2, alpha=0.9)\n",
    "\n",
    "ax.set_xlabel('Time', fontsize=14)\n",
    "ax.set_ylabel('Amplitude', fontsize=14)\n",
    "ax.set_ylim(None, ax.get_ylim()[1]*1.15)\n",
    "\n",
    "ax.legend(loc='upper center', ncol=3)\n",
    "\n",
    "plt.show()"
   ]
  },
  {
   "cell_type": "markdown",
   "id": "0f2c7f90-976e-4ac1-a631-82c1a9b258c5",
   "metadata": {},
   "source": [
    "#### 5) Periodic parabolae\n",
    "\n",
    "In this section we consider a periodic function with a phase shift defined by\n",
    "\n",
    "$$\n",
    "    f(t)\n",
    "    =\n",
    "    \\left[ \\left( t - \\phi \\right) \\bmod T \\right]^{2}\n",
    "    \\qquad\n",
    "    t \\in \\left[ -\\pi, \\pi \\right].\n",
    "$$"
   ]
  },
  {
   "cell_type": "code",
   "execution_count": null,
   "id": "9a17f152-963a-4cd1-8b8d-b526ee09c7cf",
   "metadata": {},
   "outputs": [],
   "source": [
    "def f5(t, T, phi=0):\n",
    "    '''\n",
    "    Generate a signal with a period of :math:`T`, an amplitude of\n",
    "    ::math:`T^{2}/4` and a phase shift of :math:`\\phi`.\n",
    "\n",
    "    Parameters\n",
    "    ----------\n",
    "    t : float or array-like\n",
    "        Sampling times corresponding to the evaluated signal\n",
    "    T : float\n",
    "        Period of the output signal\n",
    "    phi : float\n",
    "        Phase shift of the output signal\n",
    "\n",
    "    Returns\n",
    "    -------\n",
    "    x : numpy.array\n",
    "        The evaluated signal at `t` time points\n",
    "    '''\n",
    "    # Handle both scalar and array inputs\n",
    "    FCHECK = np.isscalar(t)\n",
    "    if FCHECK:\n",
    "        t = np.array([t])\n",
    "\n",
    "    t = (t - phi + T/2)%T - T/2\n",
    "    x = t*t\n",
    "\n",
    "    if FCHECK:\n",
    "        return x[0]\n",
    "    return x"
   ]
  },
  {
   "cell_type": "code",
   "execution_count": null,
   "id": "b1b40ed4-3cbd-4915-b075-837018fc31fa",
   "metadata": {},
   "outputs": [],
   "source": [
    "# Function-dependent extra parameters\n",
    "T = 2*np.pi  # Period\n",
    "phi = 0      # Phase shift\n",
    "# Sampling locations corresponding to the evaluated signal\n",
    "t = np.linspace(-T, T, endpoint=False, num=fs)"
   ]
  },
  {
   "cell_type": "code",
   "execution_count": null,
   "id": "b98913d2-2d65-4167-ab2d-74f9d649636b",
   "metadata": {},
   "outputs": [],
   "source": [
    "fig, ax = plt.subplots()\n",
    "\n",
    "ax.plot(t, f5(t, T, phi), color='0.3', lw=4)\n",
    "ax.set_xlabel('Time', fontsize=14)\n",
    "ax.set_ylabel('Amplitude', fontsize=14)\n",
    "\n",
    "plt.show()"
   ]
  },
  {
   "cell_type": "code",
   "execution_count": null,
   "id": "9fd52a7a-f2b3-438b-97bf-2de1952e8de9",
   "metadata": {},
   "outputs": [],
   "source": [
    "# Calculate Fourier coefficients\n",
    "args = (T, phi)\n",
    "a, b = fourier_coeffs(f5, T, N, 0, *args)"
   ]
  },
  {
   "cell_type": "code",
   "execution_count": null,
   "id": "89b015dc-afd7-40e8-a9dd-750ad0b0944a",
   "metadata": {},
   "outputs": [],
   "source": [
    "fig, ax = plt.subplots()\n",
    "\n",
    "ax.plot(t, f5(t, T, phi), color='red', lw=4, alpha=1.0)\n",
    "for ni in [30, 7, 3]:\n",
    "    ax.plot(t, fourier_sin(t, a, b, N=ni, T=T, fs=fs),\n",
    "            label=f'{ni}th order', lw=2, alpha=0.9)\n",
    "\n",
    "ax.set_xlabel('Time', fontsize=14)\n",
    "ax.set_ylabel('Amplitude', fontsize=14)\n",
    "ax.set_ylim(None, ax.get_ylim()[1]*1.15)\n",
    "\n",
    "ax.legend(loc='upper center', ncol=3)\n",
    "\n",
    "plt.show()"
   ]
  },
  {
   "cell_type": "markdown",
   "id": "34ed5dba-3a23-4ea0-a328-f4fe6f2d6aa5",
   "metadata": {},
   "source": [
    "#### 6) Inverted periodic parabolae\n",
    "\n",
    "In this section we consider a periodic function with a phase shift defined by\n",
    "\n",
    "$$\n",
    "    f(t)\n",
    "    =\n",
    "    \\pi^2 - \\left[ \\left( t - \\phi \\right) \\bmod T \\right]^{2}\n",
    "    \\qquad\n",
    "    t \\in \\left[ -\\pi, \\pi \\right].\n",
    "$$"
   ]
  },
  {
   "cell_type": "code",
   "execution_count": null,
   "id": "3fb8fbcc-35e1-4717-ac6c-464d70ebd6ba",
   "metadata": {},
   "outputs": [],
   "source": [
    "def f6(t, T, phi=0):\n",
    "    '''\n",
    "    Generate a signal with a period of :math:`T`, an amplitude of\n",
    "    ::math:`T^{2}/4` and a phase shift of :math:`\\phi`.\n",
    "\n",
    "    Parameters\n",
    "    ----------\n",
    "    t : float or array-like\n",
    "        Sampling times corresponding to the evaluated signal\n",
    "    T : float\n",
    "        Period of the output signal\n",
    "    phi : float\n",
    "        Phase shift of the output signal\n",
    "\n",
    "    Returns\n",
    "    -------\n",
    "    x : numpy.array\n",
    "        The evaluated signal at `t` time points\n",
    "    '''\n",
    "    # Handle both scalar and array inputs\n",
    "    FCHECK = np.isscalar(t)\n",
    "    if FCHECK:\n",
    "        t = np.array([t])\n",
    "\n",
    "    t = (t - phi + T/2)%T - T/2\n",
    "    x = np.pi*np.pi - t*t\n",
    "\n",
    "    if FCHECK:\n",
    "        return x[0]\n",
    "    return x"
   ]
  },
  {
   "cell_type": "code",
   "execution_count": null,
   "id": "6359b87e-9af5-4e67-91c2-f7cd8ca687fc",
   "metadata": {},
   "outputs": [],
   "source": [
    "# Function-dependent extra parameters\n",
    "T = 2*np.pi  # Period\n",
    "phi = 0      # Phase shift\n",
    "# Sampling locations corresponding to the evaluated signal\n",
    "t = np.linspace(-T, T, endpoint=False, num=fs)"
   ]
  },
  {
   "cell_type": "code",
   "execution_count": null,
   "id": "a6a1786c-f3ad-4d6b-8fd4-35991aa3aef1",
   "metadata": {},
   "outputs": [],
   "source": [
    "fig, ax = plt.subplots()\n",
    "\n",
    "ax.plot(t, f6(t, T, phi), color='0.3', lw=4)\n",
    "ax.set_xlabel('Time', fontsize=14)\n",
    "ax.set_ylabel('Amplitude', fontsize=14)\n",
    "\n",
    "plt.show()"
   ]
  },
  {
   "cell_type": "code",
   "execution_count": null,
   "id": "326b8349-56c3-447e-9ab2-560495ae0b5b",
   "metadata": {},
   "outputs": [],
   "source": [
    "# Calculate Fourier coefficients\n",
    "args = (T, phi)\n",
    "a, b = fourier_coeffs(f6, T, N, 0, *args)"
   ]
  },
  {
   "cell_type": "code",
   "execution_count": null,
   "id": "48fd84cd-69d5-4be7-9e63-546d05b2e7b0",
   "metadata": {},
   "outputs": [],
   "source": [
    "fig, ax = plt.subplots()\n",
    "\n",
    "ax.plot(t, f6(t, T, phi), color='red', lw=4, alpha=1.0)\n",
    "for ni in [30, 7, 3]:\n",
    "    ax.plot(t, fourier_sin(t, a, b, N=ni, T=T, fs=fs),\n",
    "            label=f'{ni}th order', lw=2, alpha=0.9)\n",
    "\n",
    "ax.set_xlabel('Time', fontsize=14)\n",
    "ax.set_ylabel('Amplitude', fontsize=14)\n",
    "ax.set_ylim(None, ax.get_ylim()[1]*1.15)\n",
    "\n",
    "ax.legend(loc='upper center', ncol=3)\n",
    "\n",
    "plt.show()"
   ]
  },
  {
   "cell_type": "markdown",
   "id": "2c321b94-f1f3-4ffe-9037-bb0eec4fe6c5",
   "metadata": {},
   "source": [
    "#### 7) Inverted \"smooth\" sawtooth\n",
    "\n",
    "In this section we consider a periodic function with a phase shift defined by\n",
    "\n",
    "$$\n",
    "    f(t_{c})\n",
    "    =\n",
    "    \\left( t_{c} - 1 \\right) \\left( t_{c} - 3\\right),\n",
    "    \\qquad\n",
    "    t_{c} = \\left( t - \\phi \\right) \\bmod T,\n",
    "    \\qquad\n",
    "    t \\in \\left[ -\\pi, \\pi \\right].\n",
    "$$"
   ]
  },
  {
   "cell_type": "code",
   "execution_count": null,
   "id": "e7a14667-0865-4592-a0ac-e59b5feeac3f",
   "metadata": {},
   "outputs": [],
   "source": [
    "def f7(t, T, phi=0):\n",
    "    '''\n",
    "    Generate a signal with a period of :math:`T`, an amplitude of\n",
    "    ::math:`T^{2}/4` and a phase shift of :math:`\\phi`.\n",
    "\n",
    "    Parameters\n",
    "    ----------\n",
    "    t : float or array-like\n",
    "        Sampling times corresponding to the evaluated signal\n",
    "    T : float\n",
    "        Period of the output signal\n",
    "    phi : float\n",
    "        Phase shift of the output signal\n",
    "\n",
    "    Returns\n",
    "    -------\n",
    "    x : numpy.array\n",
    "        The evaluated signal at `t` time points\n",
    "    '''\n",
    "    # Handle both scalar and array inputs\n",
    "    FCHECK = np.isscalar(t)\n",
    "    if FCHECK:\n",
    "        t = np.array([t])\n",
    "\n",
    "    t = (t - phi + T/2)%T - T/2\n",
    "    x = (t - 1) * (t - 3)\n",
    "\n",
    "    if FCHECK:\n",
    "        return x[0]\n",
    "    return x"
   ]
  },
  {
   "cell_type": "code",
   "execution_count": null,
   "id": "87df7814-85d8-4e59-b70e-8039cc22c81b",
   "metadata": {},
   "outputs": [],
   "source": [
    "# Function-dependent extra parameters\n",
    "T = 2*np.pi  # Period\n",
    "phi = 0      # Phase shift\n",
    "# Sampling locations corresponding to the evaluated signal\n",
    "t = np.linspace(-T, T, endpoint=False, num=fs)"
   ]
  },
  {
   "cell_type": "code",
   "execution_count": null,
   "id": "74621bec-1142-4cf6-b788-5e4bfb2ae16f",
   "metadata": {},
   "outputs": [],
   "source": [
    "fig, ax = plt.subplots()\n",
    "\n",
    "ax.plot(t, f7(t, T, phi), color='0.3', lw=4)\n",
    "ax.set_xlabel('Time', fontsize=14)\n",
    "ax.set_ylabel('Amplitude', fontsize=14)\n",
    "\n",
    "plt.show()"
   ]
  },
  {
   "cell_type": "code",
   "execution_count": null,
   "id": "a2b3cd43-b16b-4738-9c80-7fd8bb172ec1",
   "metadata": {},
   "outputs": [],
   "source": [
    "# Calculate Fourier coefficients\n",
    "args = (T, phi)\n",
    "a, b = fourier_coeffs(f7, T, N, 0, *args)"
   ]
  },
  {
   "cell_type": "code",
   "execution_count": null,
   "id": "6a7fe2e3-7438-4e9f-9929-a5c3e4bbd623",
   "metadata": {},
   "outputs": [],
   "source": [
    "fig, ax = plt.subplots()\n",
    "\n",
    "ax.plot(t, f7(t, T, phi), color='red', lw=4, alpha=1.0)\n",
    "for ni in [30, 7, 3]:\n",
    "    ax.plot(t, fourier_sin(t, a, b, N=ni, T=T, fs=fs),\n",
    "            label=f'{ni}th order', lw=2, alpha=0.9)\n",
    "\n",
    "ax.set_xlabel('Time', fontsize=14)\n",
    "ax.set_ylabel('Amplitude', fontsize=14)\n",
    "ax.set_ylim(None, ax.get_ylim()[1]*1.15)\n",
    "\n",
    "ax.legend(loc='upper center', ncol=3)\n",
    "\n",
    "plt.show()"
   ]
  },
  {
   "cell_type": "code",
   "execution_count": null,
   "id": "e0173b94-f576-4063-b618-5e34b00888d4",
   "metadata": {},
   "outputs": [],
   "source": []
  },
  {
   "cell_type": "code",
   "execution_count": null,
   "id": "a54bd053-8e14-4265-8675-d5c813a885fc",
   "metadata": {},
   "outputs": [],
   "source": []
  },
  {
   "cell_type": "code",
   "execution_count": null,
   "id": "e9ec737f-7089-45ee-9ef2-0a464d9c3ae9",
   "metadata": {},
   "outputs": [],
   "source": []
  },
  {
   "cell_type": "code",
   "execution_count": null,
   "id": "2a24a5d7-0262-4228-b4c1-c1888e352371",
   "metadata": {},
   "outputs": [],
   "source": []
  }
 ],
 "metadata": {
  "kernelspec": {
   "display_name": "Python 3 (ipykernel)",
   "language": "python",
   "name": "python3"
  },
  "language_info": {
   "codemirror_mode": {
    "name": "ipython",
    "version": 3
   },
   "file_extension": ".py",
   "mimetype": "text/x-python",
   "name": "python",
   "nbconvert_exporter": "python",
   "pygments_lexer": "ipython3",
   "version": "3.11.6"
  }
 },
 "nbformat": 4,
 "nbformat_minor": 5
}
