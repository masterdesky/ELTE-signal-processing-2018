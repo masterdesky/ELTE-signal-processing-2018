{
 "cells": [
  {
   "cell_type": "markdown",
   "id": "d1523842-e6c4-46df-bed7-ff613b0f38b8",
   "metadata": {},
   "source": [
    "# Signal processing course 2018/2019-1 @ ELTE\n",
    "# Assignment 2\n",
    "## 10.01.2018"
   ]
  },
  {
   "cell_type": "markdown",
   "id": "66fc7993-d3ed-4eb7-b435-05d45d7436be",
   "metadata": {},
   "source": [
    "## Task 3\n",
    "### Calculating Fourier coefficients numerically<sup>[\\[1\\]](#footnote1)</sup>\n",
    "\n",
    "Fourier coefficients can be approximated by numeric integration. Using the trapezoidal rule in the case of the $N + 1$ number of equidistant base points, defined as\n",
    "\n",
    "$$\n",
    "    x_{\\nu} = \\nu h\n",
    "$$\n",
    "\n",
    "where $\\nu = 0, 1, \\dots, N$ and $h = 2 \\pi / N$, the following approximate formulae are obtained:\n",
    "\n",
    "$$\n",
    "\\begin{align}\n",
    "    a_{k} &\\approx \\tilde{a}_{k} = \\frac{2}{N} \\sum_{\\nu = 1}^{N} f(t_{\\nu}) \\cos \\left( k t_{\\nu} \\right), \\\\\n",
    "    b_{k} &\\approx \\tilde{b}_{k} = \\frac{2}{N} \\sum_{\\nu = 1}^{N} f(t_{\\nu}) \\sin \\left( k t_{\\nu} \\right),\n",
    "\\end{align}\n",
    "$$\n",
    "\n",
    "where $k = 0, 1, \\dots, N$. By analogy, the following formula can be used for the $c_{k}$ coefficients:\n",
    "\n",
    "$$\n",
    "    c_{k}\n",
    "    =\n",
    "    \\frac{1}{N} \\sum_{\\nu = 0}^{N - 1} f(t_{\\nu}) e^{-i k t_{\\nu}}\n",
    "    =\n",
    "    \\sum_{\\nu = 0}^{N - 1} f_{\\nu} \\omega_{N}^{k \\nu}\n",
    "$$\n",
    "\n",
    "where again, $k = 0, 1, \\dots, N$ and $\\nu = 0, 1, \\dots, N-1$. Additionally, we used the substitutions\n",
    "\n",
    "$$\n",
    "    f_{\\nu} = \\frac{1}{N} f(t_{\\nu}),\n",
    "    \\quad\n",
    "    t_{\\nu} = \\frac{2 \\pi \\nu}{N},\n",
    "    \\quad\n",
    "    \\omega_{N} = e^{-\\tfrac{2 \\pi i}{N}}.\n",
    "$$\n",
    "\n",
    "<a name=\"footnote1\">1</a>: Bronstein, 2009. Typotex, p. 952"
   ]
  },
  {
   "cell_type": "code",
   "execution_count": null,
   "id": "b29eff75-fbfc-4d12-b2b2-2fc0f763dda5",
   "metadata": {},
   "outputs": [],
   "source": []
  }
 ],
 "metadata": {
  "kernelspec": {
   "display_name": "Python 3 (ipykernel)",
   "language": "python",
   "name": "python3"
  },
  "language_info": {
   "codemirror_mode": {
    "name": "ipython",
    "version": 3
   },
   "file_extension": ".py",
   "mimetype": "text/x-python",
   "name": "python",
   "nbconvert_exporter": "python",
   "pygments_lexer": "ipython3",
   "version": "3.11.6"
  }
 },
 "nbformat": 4,
 "nbformat_minor": 5
}
