{
 "cells": [
  {
   "cell_type": "markdown",
   "metadata": {},
   "source": [
    "# Signal processing course 2018/2019-1 @ ELTE\n",
    "# Assignment 3\n",
    "## 10.08.2018"
   ]
  },
  {
   "cell_type": "markdown",
   "metadata": {},
   "source": [
    "## Task 1\n",
    "\n",
    "### Low-pass filter (LPF) and the Bode plot\n",
    "\n",
    "A low-pass filter (LPF) is a filter that passes signals with a frequency lower than a selected cutoff frequency and attenuates signals with frequencies higher than the cutoff frequency. The exact frequency response of the filter depends on the filter design.[\\[1\\]](https://en.wikipedia.org/wiki/Low-pass_filter)\n",
    "We can construct a wingle pole LPF, simplest way as shown in the first picture:\n",
    "\n",
    "![Low-pass filter](img\\low-pass_filter_RC.svg \"First order low-pass filter\")\n",
    "\n",
    "This simple LPF circuit consists of a resistor in series with a load, and a capacitor in parallel with the load. The capacitor exhibits reactance, and blocks low-frequency signals, forcing them through the load instead. At higher frequencies the reactance drops, and the capacitor effectively functions as a short circuit. The combination of resistance and capacitance gives the time constant of the filter $\\tau = RC$, where in SI, $R$ is measured in Ohms ($\\Omega$) and $C$ is measured in Farads ($F$).[\\[2\\]](https://www.allaboutcircuits.com/textbook/direct-current/chpt-16/voltage-current-calculations/). The *break frequency*, also called the *turnover frequency* or *cutoff frequency* (in Hz), is determined by the time constant:\n",
    "\n",
    "$$\n",
    "f_{c} = \\frac{1}{2 \\pi} \\omega_{c} = \\frac{1}{2 \\pi} \\frac{1}{\\tau} = \\frac{1}{2 \\pi} \\frac{1}{RC}\n",
    "$$\n",
    "\n",
    "This circuit may be understood by considering the time the capacitor needs to charge or discharge through the resistor:\n",
    "\n",
    "* At low frequencies, there is plenty of time for the capacitor to charge up to practically the same voltage as the input voltage.\n",
    "* At high frequencies, the capacitor only has time to charge up a small amount before the input switches direction. The output goes up and down only a small fraction of the amount the input goes up and down. At double the frequency, there's only time for it to charge up half the amount.\n",
    "\n",
    "Another way to understand this circuit is through the concept of reactance at a particular frequency:\n",
    "\n",
    "* Since direct current (DC) cannot flow through the capacitor, DC input must flow out the path marked $V_{out}$ (analogous to removing the capacitor).\n",
    "* Since alternating current (AC) flows very well through the capacitor, almost as well as it flows through solid wire, AC input flows out through the capacitor, effectively short circuiting to ground (analogous to replacing the capacitor with just a wire).\n",
    "\n",
    "The capacitor is not an \"on/off\" object (like the block or pass fluidic explanation above). The capacitor variably acts between these two extremes. It is the *Bode plot* and frequency response that show this variability, which is as follows:\n",
    "\n",
    "![Bode of LPF](img\\lpf_bode.png \"Bode plot of a first-order (one-pole) low-pass filter\")\n",
    "\n",
    "One can calculate the Bode plot for a filter, using its transfer function, as follows[\\[3\\]](https://slideplayer.com/slide/4225151/) (for an example we use the single pole LPF):\n",
    "\n",
    "$$\n",
    "H \\left(j \\omega \\right) = \\frac{1}{1 + j \\omega RC} = \\frac{1}{1 + j \\tfrac{\\omega}{w_{c}}}\n",
    "$$\n",
    "\n",
    "We need the absolute (real) values of this function, thus:\n",
    "\n",
    "$$\n",
    "\\left| H \\left(j \\omega \\right) \\right| = \\frac{1}{\\sqrt{1 + \\left( \\tfrac{\\omega}{w_{c}} \\right)^{2}}}\n",
    "$$\n",
    "\n",
    "At the last step we convert this to decibels:\n",
    "\n",
    "$$\n",
    "\\left| H \\left(j \\omega \\right) \\right|_{dB} = 20 \\cdot \\log_{10} \\left| H \\left(j \\omega \\right) \\right| = 20 \\cdot \\log_{10} \\left( \\frac{1}{\\sqrt{1 + \\left( \\tfrac{\\omega}{w_{c}} \\right)^{2}}} \\right)\n",
    "$$\n",
    "\n",
    "### Nyquist plot\n",
    "\n",
    "A Nyquist plot is a parametric plot of a frequency response used in signal processing. The most common use of Nyquist plots is for assessing the stability of a system with feedback. In Cartesian coordinates, the real part of the transfer function is plotted on the X axis. The imaginary part is plotted on the Y axis. The frequency is swept as a parameter, resulting in a plot per frequency.[\\[4\\]](https://en.wikipedia.org/wiki/Nyquist_stability_criterion)\n",
    "Summed, one can construct the Nyquist plot, using the transfer function $H \\left(j \\omega \\right)$ plotting the following function:\n",
    "\n",
    "$$\n",
    "H_{Im} \\left( H_{Re} \\right)\n",
    "$$\n",
    "\n",
    "It results in the following plot:\n",
    "\n",
    "![Nyquist of LPF](img\\lpf_nyquist.svg \"Nyquist plot of a first-order (one-pole) low-pass filter\")"
   ]
  },
  {
   "cell_type": "code",
   "execution_count": 5,
   "metadata": {},
   "outputs": [],
   "source": [
    "# Resistance's magnitude in the low-pass filter\n",
    "# Measured in Ohm (greek Omega)\n",
    "LPF_R = 1e+5\n",
    "\n",
    "# Capacitor's magnitude on the low-pass filter\n",
    "# Measured Farads (F)\n",
    "LPF_C = 1e-5\n",
    "\n",
    "# Time constant for LPF with given characteristics\n",
    "tau = LPF_R * LPF_C"
   ]
  },
  {
   "cell_type": "code",
   "execution_count": null,
   "metadata": {},
   "outputs": [],
   "source": []
  }
 ],
 "metadata": {
  "kernelspec": {
   "display_name": "Python 3",
   "language": "python",
   "name": "python3"
  },
  "language_info": {
   "codemirror_mode": {
    "name": "ipython",
    "version": 3
   },
   "file_extension": ".py",
   "mimetype": "text/x-python",
   "name": "python",
   "nbconvert_exporter": "python",
   "pygments_lexer": "ipython3",
   "version": "3.6.5"
  }
 },
 "nbformat": 4,
 "nbformat_minor": 2
}
