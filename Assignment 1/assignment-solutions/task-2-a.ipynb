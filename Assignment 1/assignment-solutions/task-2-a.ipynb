{
 "cells": [
  {
   "cell_type": "markdown",
   "id": "94520a08-ffb1-49db-95a7-908d065bfc62",
   "metadata": {},
   "source": [
    "# Signal processing course 2018/2019-1 @ ELTE\n",
    "# Assignment 1\n",
    "## 09.17.2018"
   ]
  },
  {
   "cell_type": "markdown",
   "id": "d4311ecd-864a-453a-a66e-3e42d3671d48",
   "metadata": {},
   "source": [
    "## Task 2\n",
    "### a.) Composing an $\\Omega$ rotation matrix\n",
    "\n",
    "Let $\\underline{x}$ be an $n$ dimensional vector to rotate. Let $\\underline{y}$ be the vector in which we want to rotate the former. Based on these two vectors, we define a new $\\left( \\underline{u},\\underline{v} \\right)$ base using the [Gram-Schmidt process](https://math.stackexchange.com/questions/525276/rotation-matrix-in-arbitrary-dimension-to-align-vector):\n",
    "\n",
    "$$\n",
    "\\underline{u} = \\frac{\\underline{x}}{\\left\\lVert \\underline{x} \\right\\lVert}\n",
    "$$\n",
    "\n",
    "and\n",
    "\n",
    "$$\n",
    "\\underline{v} = \\frac{\\left( \\underline{y} − \\left( \\underline{u} \\cdot \\underline{y} \\right) \\cdot \\underline{u} \\right)}{\\left\\lVert \\underline{y}− \\left( \\underline{u} \\cdot \\underline{y} \\right) \\cdot \\underline{u} \\right\\lVert}\n",
    "$$\n",
    "\n",
    "A general rotation matrix in the n-dimension [can be specified as follows](https://math.stackexchange.com/questions/598750/finding-the-rotation-matrix-in-n-dimensions):\n",
    "\n",
    "$$\n",
    "R = I - \\underline{u} \\otimes \\underline{u}^{T} - \\underline{v} \\otimes \\underline{v}^{T} + \\left[ \\underline{u},\\underline{v} \\right] \\matrix{R}_{\\theta} \\left[ \\underline{u},\\underline{v} \\right] ^{T}\n",
    "$$\n",
    "\n",
    "Where\n",
    "\n",
    "$$\n",
    "\\left[ \\underline{u},\\underline{v} \\right]\n",
    "$$\n",
    "\n",
    "is a matrix with $\\left( n \\times 2 \\right)$ elements, where the first column is the $\\underline{u}$ vector, and the second is the $\\underline{v}$ vector. We multipy this with an $\\matrix{R}_{\\theta}$ matrix, which we define as follows:\n",
    "\n",
    "$$\n",
    "\\matrix{R}_{\\theta} = \n",
    "\\begin{pmatrix} \n",
    "    \\cos(\\theta) & -\\sin(\\theta) \\\\ \n",
    "    \\sin(\\theta) & \\cos(\\theta)\n",
    "\\end{pmatrix}\n",
    "$$\n",
    "\n",
    "Where\n",
    "\n",
    "$$\n",
    "\\cos(\\theta) = \\frac{\\underline{x} \\cdot \\underline{y}}{\\left\\lVert \\underline{x} \\right\\lVert \\left\\lVert \\underline{y} \\right\\lVert}\n",
    "$$"
   ]
  },
  {
   "cell_type": "code",
   "execution_count": null,
   "id": "fd1160f1-b9c7-4b10-9f1a-3f2ad7a69627",
   "metadata": {},
   "outputs": [],
   "source": [
    "import numpy as np"
   ]
  },
  {
   "cell_type": "markdown",
   "id": "b8ce9e82-edcb-4248-80db-a7241ff5f786",
   "metadata": {},
   "source": [
    "#### Rank of the system"
   ]
  },
  {
   "cell_type": "code",
   "execution_count": null,
   "id": "9dd37a8d-fd90-4e9a-bd42-f981c54d7763",
   "metadata": {},
   "outputs": [],
   "source": [
    "rank = 3"
   ]
  },
  {
   "cell_type": "markdown",
   "id": "5490cce2-d76e-474c-affd-4158953a2f81",
   "metadata": {},
   "source": [
    "#### Define the $\\underline{x}$ vector"
   ]
  },
  {
   "cell_type": "code",
   "execution_count": null,
   "id": "bb892913-e6c9-43e8-b970-6c58fa4ab302",
   "metadata": {},
   "outputs": [],
   "source": [
    "# Elements of the starting vector `x`\n",
    "# Let's consider only integer elements, but they could be floats too.\n",
    "# Choose elements from the interval of [-10, 10). It's a free choice.\n",
    "x = np.random.randint(-10, 10, size=rank)\n",
    "print(f'Starting vector `x`: {x}')"
   ]
  },
  {
   "cell_type": "markdown",
   "id": "1f671076-3288-416f-bec0-279cb0ed22fb",
   "metadata": {},
   "source": [
    "#### Define the $\\underline{y}$ vector"
   ]
  },
  {
   "cell_type": "code",
   "execution_count": null,
   "id": "9dbe3e63-2a5a-4b50-b614-b15183bbcc95",
   "metadata": {},
   "outputs": [],
   "source": [
    "# Elements of the target vector `y`\n",
    "# Let's consider only integer elements, but they could be floats too.\n",
    "# Choose elements from the interval of [-10, 10). It's a free choice.\n",
    "y = np.random.randint(-10, 10, size=rank)\n",
    "print(f'Starting vector `y`: {y}')"
   ]
  },
  {
   "cell_type": "markdown",
   "id": "c546e19a-0feb-4841-8035-a48171b4fb34",
   "metadata": {},
   "source": [
    "#### Calculate the $\\underline{u}$ and $\\underline{v}$ vectors through the Gram-Schmidt process"
   ]
  },
  {
   "cell_type": "code",
   "execution_count": null,
   "id": "c45467da-ae66-4c4d-b158-a1192a8dab78",
   "metadata": {},
   "outputs": [],
   "source": [
    "# Calculating u\n",
    "u = x / np.linalg.norm(x)\n",
    "print(f'Created u vector: {u}')\n",
    "\n",
    "# Calculating v\n",
    "# Instead of `np.dot()`, simply `*` could be used here alternatively\n",
    "# The prior is used here only for clarity\n",
    "inner = y - np.dot(np.dot(u,y), u)\n",
    "v = inner / np.linalg.norm(inner)\n",
    "print(f'Created v vector: {v}')"
   ]
  },
  {
   "cell_type": "markdown",
   "id": "0ea6b5f7-03b3-4d0c-a6f2-727e2cb3c7f3",
   "metadata": {},
   "source": [
    "#### Creating the $I$ identity matrix"
   ]
  },
  {
   "cell_type": "code",
   "execution_count": null,
   "id": "1ae7416c-67c6-4a5b-ba4b-87b5238605ac",
   "metadata": {},
   "outputs": [],
   "source": [
    "I = np.eye(rank)\n",
    "print(f'Identity matrix with rank {rank}:\\n{I}')"
   ]
  },
  {
   "cell_type": "markdown",
   "id": "392908b1-a08b-4d1b-84b9-ef517e03f63a",
   "metadata": {},
   "source": [
    "#### Creating the $\\left[ \\underline{u},\\underline{v} \\right]$ matrix"
   ]
  },
  {
   "cell_type": "code",
   "execution_count": null,
   "id": "503946f5-faba-49b2-ac02-be880e30eca2",
   "metadata": {},
   "outputs": [],
   "source": [
    "uv = np.c_[u, v]\n",
    "print(f'Concatenated `u` and `v` vectors:\\n{uv}')"
   ]
  },
  {
   "cell_type": "markdown",
   "id": "8a400cf8-9392-4afb-8fd9-c38f2a5f8e90",
   "metadata": {},
   "source": [
    "#### Creating the $R_{\\theta}$ matrix"
   ]
  },
  {
   "cell_type": "code",
   "execution_count": null,
   "id": "267b90e6-6b18-4830-b063-862fa99af98a",
   "metadata": {},
   "outputs": [],
   "source": [
    "# First calculate theta as arccos[ x*y / (||x|| * ||y||) ]\n",
    "# This will return theta's value in radians\n",
    "theta = np.arccos(\n",
    "    np.dot(x, y) / np.dot(np.linalg.norm(x), np.linalg.norm(y))\n",
    ")\n",
    "print(f'Angle between `x` and `y`: {theta:.5f} rad = {np.rad2deg(theta):.5f}°')\n",
    "\n",
    "# Second, create the R_theta matrix according to its definition in the\n",
    "# description at the top of the page\n",
    "R_theta = np.array([\n",
    "    [np.cos(theta), -np.sin(theta)],\n",
    "    [np.sin(theta), np.cos(theta)]\n",
    "])\n",
    "print(f'Final `R_theta` matrix:\\n{R_theta}')"
   ]
  },
  {
   "cell_type": "markdown",
   "id": "62d399b1-682c-46c4-a214-29fe11de9c0a",
   "metadata": {},
   "source": [
    "#### Creating the $R$ rotation matrix"
   ]
  },
  {
   "cell_type": "code",
   "execution_count": null,
   "id": "dded9821-deaa-41f9-8561-36cf51c329d3",
   "metadata": {},
   "outputs": [],
   "source": [
    "# Calculate the rotation matrix according to its definition\n",
    "R = I - np.outer(u, u.T) - np.outer(v, v.T) + np.dot(np.dot(uv, R_theta), uv.T)\n",
    "print(f'The rotation matrix:\\n{R}')"
   ]
  },
  {
   "cell_type": "markdown",
   "id": "6516e945-45be-4adc-b016-739910906e16",
   "metadata": {},
   "source": [
    "#### Conditions\n",
    "\n",
    "(Householder) rotation matrices must meet the following criteria:\n",
    "\n",
    "- $\\det(R) = -1$\n",
    "- Orthogonal: $R^{-1} = R^{T}$"
   ]
  },
  {
   "cell_type": "code",
   "execution_count": null,
   "id": "d373c08c-b897-40e8-9134-044299e67767",
   "metadata": {},
   "outputs": [],
   "source": [
    "# Orthogonal?\n",
    "if(np.linalg.det(np.around((R.T - I), 8)) == 0):\n",
    "    print(\"R is orthogonal!\\nR^T - R^-1:\\n\", np.around((R.T - I), 8))\n",
    "else:\n",
    "    print(\"R is not orthogonal!\\nR^T - R^-1:\\n\", np.around((R.T - I), 8))\n",
    "print(\"\\n\")\n",
    "\n",
    "# Calculate determinant: does it equal to -1?\n",
    "det_bad = False\n",
    "if(np.around(np.linalg.det(R), 8) == -1):\n",
    "    print(\"The Rotation matrix's determinant does equal to -1!\")\n",
    "else:\n",
    "    print(\"The Rotation matrix's determinant does not equal to -1!\\nIt's actual value is:\", np.around(np.linalg.det(R), 8))\n",
    "    det_bad = True"
   ]
  },
  {
   "cell_type": "code",
   "execution_count": null,
   "id": "1a8a2797-561d-42a8-b614-322d98939166",
   "metadata": {},
   "outputs": [],
   "source": [
    "R_corr = R.copy()\n",
    "if det_bad:\n",
    "    # The determinant of a Householder matrix should be always −1. For\n",
    "    # this, mulitply the last row of R by −1 to get the desired matrix.\n",
    "    R_corr[-1] = -1 * R[-1]\n",
    "print(f'Corrected Householder rotation matrix:\\n{R_corr}')"
   ]
  },
  {
   "cell_type": "code",
   "execution_count": null,
   "id": "24843a3c-5aa9-4fdd-a5a0-3a255c42b22a",
   "metadata": {},
   "outputs": [],
   "source": [
    "# Orthogonal?\n",
    "if(np.linalg.det(np.around((R.T - I), 8)) == 0):\n",
    "    print(\"R is orthogonal!\\nR^T - R^-1:\\n\", np.around((R.T - I), 8))\n",
    "else:\n",
    "    print(\"R is not orthogonal!\\nR^T - R^-1:\\n\", np.around((R.T - I), 8))\n",
    "print(\"\\n\")\n",
    "\n",
    "# Check if the determinant is really -1 now\n",
    "if(np.around(np.linalg.det(R_corr), 8) == -1):\n",
    "    print(\"The Rotation matrix's determinant does equal to -1!\")\n",
    "else:\n",
    "    print(\"The Rotation matrix's determinant does not equal to -1!\\nIt's actual value is:\", np.around(np.linalg.det(R), 8))"
   ]
  },
  {
   "cell_type": "markdown",
   "id": "3280772b-6070-4718-8346-c62a36aefb94",
   "metadata": {},
   "source": [
    "#### Discusson\n",
    "The orthogonalizating algorithm (Gram-Schmidt process) above is numerically rather unstable. This is the reason why we obtained a matrix with a determinant of just approximately $-1$. The violation of orthogonality is also caused by this instability."
   ]
  },
  {
   "cell_type": "code",
   "execution_count": null,
   "id": "174a706c-b7e8-40d5-b72e-3a8f1146c9ba",
   "metadata": {},
   "outputs": [],
   "source": []
  }
 ],
 "metadata": {
  "kernelspec": {
   "display_name": "Python 3 (ipykernel)",
   "language": "python",
   "name": "python3"
  },
  "language_info": {
   "codemirror_mode": {
    "name": "ipython",
    "version": 3
   },
   "file_extension": ".py",
   "mimetype": "text/x-python",
   "name": "python",
   "nbconvert_exporter": "python",
   "pygments_lexer": "ipython3",
   "version": "3.11.6"
  }
 },
 "nbformat": 4,
 "nbformat_minor": 5
}
