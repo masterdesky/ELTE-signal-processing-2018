{
 "cells": [
  {
   "cell_type": "markdown",
   "id": "2e5065a9-aaa6-4895-97a0-a828c26af0bd",
   "metadata": {},
   "source": [
    "# Signal processing course 2018/2019-1 @ ELTE\n",
    "# Assignment 1\n",
    "## 09.17.2018"
   ]
  },
  {
   "cell_type": "markdown",
   "id": "a8e52779-11fa-46c3-8dd2-38329bcdbdfd",
   "metadata": {},
   "source": [
    "## Task 1\n",
    "### Mirrorring a vector on a subspace with $\\underline{n}$ normal\n",
    "Let $\\underline{v}$ a vector to reflect. Here is how to write the reflection matrix $\\matrix{R}$ using the Householder transformation:\n",
    "\n",
    "$$\n",
    "\\matrix{R} = \\matrix{I} - 2 \\left( \\underline{n} \\otimes \\underline{n}^{T} \\right)\n",
    "$$\n",
    "\n",
    "Where $\\underline{n}$ is the normal (unit) vector of the subspace."
   ]
  },
  {
   "cell_type": "code",
   "execution_count": null,
   "id": "905c06fd-f98a-41d0-bef0-bc384ef82959",
   "metadata": {},
   "outputs": [],
   "source": [
    "import numpy as np\n",
    "import matplotlib.pyplot as plt"
   ]
  },
  {
   "cell_type": "markdown",
   "id": "8dd24261-e138-44d3-a592-c9dbf359b8c2",
   "metadata": {},
   "source": [
    "#### Rank of the system (only hyperparameter)"
   ]
  },
  {
   "cell_type": "code",
   "execution_count": null,
   "id": "610bbf33-968f-4bd9-94b5-5bfe1be163ed",
   "metadata": {},
   "outputs": [],
   "source": [
    "rank = 6"
   ]
  },
  {
   "cell_type": "markdown",
   "id": "0d496468-0dc9-457e-a538-ed9ac3605f96",
   "metadata": {},
   "source": [
    "#### Define the $\\underline{v}$ vector"
   ]
  },
  {
   "cell_type": "code",
   "execution_count": null,
   "id": "2e248bde-f557-4471-adf5-7de18dcc6e6b",
   "metadata": {
    "scrolled": true
   },
   "outputs": [],
   "source": [
    "# Elements of the original `v` vector\n",
    "# Let's consider only integer elements, but they could be floats too.\n",
    "# Choose elements from the interval of [-10, 10). It's a free choice.\n",
    "v = np.random.randint(-10, 10, size=rank)\n",
    "print(f'Original vector `v`: {v}')"
   ]
  },
  {
   "cell_type": "markdown",
   "id": "6d5a68b2-6cd6-42aa-a7cf-8c4b3f7d687e",
   "metadata": {},
   "source": [
    "#### Define the $\\underline{n}$ vector"
   ]
  },
  {
   "cell_type": "code",
   "execution_count": null,
   "id": "bad288aa-f508-4568-b011-1aa833f5b0ca",
   "metadata": {
    "scrolled": true
   },
   "outputs": [],
   "source": [
    "# Elements of the `n` normal vector\n",
    "# Similarly, use only integers here, like in case of the vector `v`.\n",
    "# Choose elements from the interval of [-10, 10). Again, free choice.\n",
    "n = np.random.randint(-10, 10, size=rank)\n",
    "print(f'Normal vector `n`: {n}')"
   ]
  },
  {
   "cell_type": "markdown",
   "id": "39bcddbe-49e4-4ce1-8135-f905b0993c93",
   "metadata": {},
   "source": [
    "#### Calculate the $\\hat{\\underline{n}}$ unit normal vector"
   ]
  },
  {
   "cell_type": "code",
   "execution_count": null,
   "id": "c1bd9394-bf23-4d2e-b5e8-a1524b2c334e",
   "metadata": {},
   "outputs": [],
   "source": [
    "n_norm = n / np.linalg.norm(n)\n",
    "print(f'Unit normal vector `n/||n||`: {n_norm}')"
   ]
  },
  {
   "cell_type": "markdown",
   "id": "eabfff77-dcf4-43fc-821b-b5884f157706",
   "metadata": {},
   "source": [
    "#### Creating the $I$ identity matrix"
   ]
  },
  {
   "cell_type": "code",
   "execution_count": null,
   "id": "122a7398-6d9e-4b33-a8f8-8d5f12459b77",
   "metadata": {},
   "outputs": [],
   "source": [
    "I = np.eye(rank)\n",
    "print(f'Identity matrix with rank {rank}:\\n{I}')"
   ]
  },
  {
   "cell_type": "markdown",
   "id": "09b01127-a32f-492b-8a73-8bcc15a36e61",
   "metadata": {},
   "source": [
    "#### Creating the $R$ reflection matrix\n",
    "\n",
    "$$\n",
    "\\matrix{R} = \\matrix{I} - 2 \\left( \\underline{n} \\otimes \\underline{n}^{T} \\right)\n",
    "$$"
   ]
  },
  {
   "cell_type": "code",
   "execution_count": null,
   "id": "5df5b352-9861-4737-9e43-99d503d5d584",
   "metadata": {},
   "outputs": [],
   "source": [
    "R = I - 2*(np.outer(n_norm, n_norm.T))\n",
    "print(f'Reflection matrix:\\n{R}')"
   ]
  },
  {
   "cell_type": "markdown",
   "id": "79ef90d1-4081-4bf4-8c14-c3ab4176c85f",
   "metadata": {},
   "source": [
    "#### Reflecting the $\\underline{v}$ vector with the $\\matrix{R}$ matrix on a subspace with an $\\underline{n}$ normal vector"
   ]
  },
  {
   "cell_type": "code",
   "execution_count": null,
   "id": "86b1bf3a-d479-4394-ac69-9c04665f84d1",
   "metadata": {},
   "outputs": [],
   "source": [
    "v_ref = R@v\n",
    "print(f'Reflected vector: {v_ref}')"
   ]
  },
  {
   "cell_type": "markdown",
   "id": "6de8d644-b220-43d2-8adc-13ef474ad89d",
   "metadata": {},
   "source": [
    "#### Conditions\n",
    "\n",
    "Reflection matrix should be:\n",
    "- Hermitian: $R = R^{+}$\n",
    "- Unitary: $R^{-1} = R^{+}$\n",
    "- Involutory: $R^{2} = I$\n",
    "- $det(R) = -1$ (Householder matrix)\n",
    "\n",
    "Test these conditions!"
   ]
  },
  {
   "cell_type": "code",
   "execution_count": null,
   "id": "bea4d881-72b7-4f50-a7f0-4f8572be3fd1",
   "metadata": {},
   "outputs": [],
   "source": [
    "# Hermitian?\n",
    "if(np.linalg.det(np.around((R.conj().T - R), 8)) == 0):\n",
    "    print(\"R is Hermitian!\\nR^+ - R:\\n\", np.around((R.conj().T - R), 8))\n",
    "else:\n",
    "    print(\"R is not Hermitian!\\nR^+ - R:\\n\", np.around((R.conj().T - R), 8))    \n",
    "print(\"\\n\")\n",
    "\n",
    "# Unitary?\n",
    "if(np.linalg.det(np.around((R.conj().T - np.linalg.inv(R)), 8)) == 0):\n",
    "    print(\"R is unitary!\\nR^+ - R^-1:\\n\", np.around((R.conj().T - np.linalg.inv(R)), 8))\n",
    "else:\n",
    "    print(\"R is not unitary!\\nR^+ - R^-1:\\n\", np.around((R.conj().T - np.linalg.inv(R)), 8))\n",
    "print(\"\\n\")\n",
    "\n",
    "# Involutory?\n",
    "if(np.linalg.det(np.around((np.linalg.matrix_power(R, 2) - I), 8)) == 0):\n",
    "    print(\"R is involutory!\\nR^2 - I:\\n\", np.around((np.linalg.matrix_power(R, 2) - I), 8))\n",
    "else:\n",
    "    print(\"R is not involutory!\\nR^2 - I:\\n\", np.around((np.linalg.matrix_power(R, 2) - I), 8))    \n",
    "print(\"\\n\")\n",
    "\n",
    "# Calculate determinant: does it equal to -1?\n",
    "if(np.around(np.linalg.det(R), 8) == -1):\n",
    "    print(\"The Reflection matrix's determinant does equal to -1!\")\n",
    "else:\n",
    "    print(\"The Reflection matrix's determinant does not equal to -1!\\nIts actual value is:\", np.around(np.linalg.det(R), 8))"
   ]
  },
  {
   "cell_type": "code",
   "execution_count": null,
   "id": "0e2a9deb-49cd-48ac-8300-06d30eb057cf",
   "metadata": {},
   "outputs": [],
   "source": []
  }
 ],
 "metadata": {
  "kernelspec": {
   "display_name": "Python 3 (ipykernel)",
   "language": "python",
   "name": "python3"
  },
  "language_info": {
   "codemirror_mode": {
    "name": "ipython",
    "version": 3
   },
   "file_extension": ".py",
   "mimetype": "text/x-python",
   "name": "python",
   "nbconvert_exporter": "python",
   "pygments_lexer": "ipython3",
   "version": "3.11.6"
  }
 },
 "nbformat": 4,
 "nbformat_minor": 5
}
