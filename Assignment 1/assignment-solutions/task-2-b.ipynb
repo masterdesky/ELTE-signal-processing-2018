{
 "cells": [
  {
   "cell_type": "markdown",
   "id": "99570559-6e43-4ed3-8722-b3aa2e0ca266",
   "metadata": {},
   "source": [
    "# Signal processing course 2018/2019-1 @ ELTE\n",
    "# Assignment 1\n",
    "## 09.17.2018"
   ]
  },
  {
   "cell_type": "markdown",
   "id": "e3c29def-cc51-4240-850d-d8bc0ac5da8a",
   "metadata": {},
   "source": [
    "## Task 2\n",
    "### b.) Rotation matrices additive properties"
   ]
  },
  {
   "cell_type": "code",
   "execution_count": null,
   "id": "b31f1120-2cf7-44da-a700-da7dab34f3d5",
   "metadata": {},
   "outputs": [],
   "source": [
    "import numpy as np"
   ]
  },
  {
   "cell_type": "markdown",
   "id": "c17bd92a-cc6b-4bf7-8e92-c6f6047febe9",
   "metadata": {},
   "source": [
    "#### Rank of the system\n",
    "For the sake of clarity, we'll work in 2 dimensions."
   ]
  },
  {
   "cell_type": "code",
   "execution_count": null,
   "id": "6fedb66a-2fb6-4286-b8a8-4d0400588538",
   "metadata": {},
   "outputs": [],
   "source": [
    "rank = 2"
   ]
  },
  {
   "cell_type": "markdown",
   "id": "847fed87-d2ca-4267-800e-aec757e451d7",
   "metadata": {},
   "source": [
    "#### Define a template for rotation matrices"
   ]
  },
  {
   "cell_type": "code",
   "execution_count": null,
   "id": "77cb15bf-6621-4eb6-9734-6dc59b9d8064",
   "metadata": {},
   "outputs": [],
   "source": [
    "def R_matrix(theta):\n",
    "    R = np.array([\n",
    "        [np.cos(theta), -np.sin(theta)],\n",
    "        [np.sin(theta), np.cos(theta)]\n",
    "    ])\n",
    "    return R"
   ]
  },
  {
   "cell_type": "markdown",
   "id": "23614d30-ffc0-45b7-ac3f-a5448e2a2e5c",
   "metadata": {},
   "source": [
    "#### Define the two test matrices"
   ]
  },
  {
   "cell_type": "code",
   "execution_count": null,
   "id": "54e8a6d0-06bf-4b9f-a7b0-a851702e7550",
   "metadata": {},
   "outputs": [],
   "source": [
    "# Rotation angle of the first matrix\n",
    "theta_1 = 42 \n",
    "R1 = R_matrix(theta_1)\n",
    "print(f'First rotation matrix with theta = {theta_1:.2f}°:\\n{R1}\\n')\n",
    "\n",
    "# Rotation angle of the second matrix\n",
    "theta_2 = 69\n",
    "R2 = R_matrix(theta_2)\n",
    "print(f'Second rotation matrix with theta = {theta_2:.2f}°:\\n{R2}\\n')"
   ]
  },
  {
   "cell_type": "markdown",
   "id": "b4fa2108-552a-4825-afd3-f8da323cd088",
   "metadata": {},
   "source": [
    "#### Define the sum of the two matrices"
   ]
  },
  {
   "cell_type": "code",
   "execution_count": null,
   "id": "6aafc68a-e28d-4147-a985-94b820812798",
   "metadata": {},
   "outputs": [],
   "source": [
    "# Rotation angle of the summed matrix\n",
    "theta_sum = theta_1 + theta_2\n",
    "R_sum = R_matrix(theta_sum)\n",
    "print(f'Summed rotation matrix with theta = {theta_sum:.2f}°:\\n{R_sum}\\n')"
   ]
  },
  {
   "cell_type": "markdown",
   "id": "5a90933b-d75c-4685-b30e-da1b7d030e82",
   "metadata": {},
   "source": [
    "#### Define an arbitrary test vector $\\underline{v}$ to rotate"
   ]
  },
  {
   "cell_type": "code",
   "execution_count": null,
   "id": "39278f1a-700f-4c08-b649-de3e870cf6c9",
   "metadata": {},
   "outputs": [],
   "source": [
    "# Vector to rotate\n",
    "v = np.random.randint(-5, 5, size=rank)\n",
    "print(f'Test vector `v_test` to rotate: {v}')"
   ]
  },
  {
   "cell_type": "markdown",
   "id": "6a7d7296-d023-42a6-b256-f6428421317b",
   "metadata": {},
   "source": [
    "#### First rotation"
   ]
  },
  {
   "cell_type": "code",
   "execution_count": null,
   "id": "07fe8997-d3f5-41fa-855d-005d8d14ab41",
   "metadata": {},
   "outputs": [],
   "source": [
    "v_rot_1 = R2@(R1@v.T)\n",
    "\n",
    "print(f'Rotation by {theta_1:.2f}°, then {theta_2:.2f}°:\\n{v_rot_1}')"
   ]
  },
  {
   "cell_type": "markdown",
   "id": "a1984232-887b-4817-b4a2-0bbbf5b4ce1b",
   "metadata": {},
   "source": [
    "#### Second rotation"
   ]
  },
  {
   "cell_type": "code",
   "execution_count": null,
   "id": "9723e2d8-0f21-4e32-8481-b93e498474a7",
   "metadata": {},
   "outputs": [],
   "source": [
    "v_rot_2 = R_sum@v.T\n",
    "\n",
    "print(f'Rotation by {theta_1:.2f}° + {theta_2:.2f}° = {theta_sum:.2f}°:\\n{v_rot_2}')"
   ]
  },
  {
   "cell_type": "markdown",
   "id": "fe6e46a6-d143-4399-84aa-29e22f0f48b6",
   "metadata": {},
   "source": [
    "#### Test wheter we got the same values"
   ]
  },
  {
   "cell_type": "code",
   "execution_count": null,
   "id": "77610d17-ce85-425e-8041-949b6ec1849b",
   "metadata": {},
   "outputs": [],
   "source": [
    "print(f'Should be a null vector: {np.around(v_rot_2, 8) - np.around(v_rot_1, 8)}')"
   ]
  },
  {
   "cell_type": "code",
   "execution_count": null,
   "id": "a92cde3e-c808-4e8e-9d69-5b922ec75d83",
   "metadata": {},
   "outputs": [],
   "source": []
  }
 ],
 "metadata": {
  "kernelspec": {
   "display_name": "Python 3 (ipykernel)",
   "language": "python",
   "name": "python3"
  },
  "language_info": {
   "codemirror_mode": {
    "name": "ipython",
    "version": 3
   },
   "file_extension": ".py",
   "mimetype": "text/x-python",
   "name": "python",
   "nbconvert_exporter": "python",
   "pygments_lexer": "ipython3",
   "version": "3.11.6"
  }
 },
 "nbformat": 4,
 "nbformat_minor": 5
}
