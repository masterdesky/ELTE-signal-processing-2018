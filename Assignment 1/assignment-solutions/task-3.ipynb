{
 "cells": [
  {
   "cell_type": "markdown",
   "id": "fc85e245-67cb-400e-befa-36a78b0efed3",
   "metadata": {},
   "source": [
    "# Signal processing course 2018/2019-1 @ ELTE\n",
    "# Assignment 1\n",
    "## 09.17.2018"
   ]
  },
  {
   "cell_type": "markdown",
   "id": "cb1e13e8-7f01-4493-8a0d-d6b07634d106",
   "metadata": {},
   "source": [
    "## Task 3\n",
    "### Floating-point precision\n",
    "\n",
    "![Large numbers](../img/largenumbers.jpg)\n",
    "\n",
    "#### [Guard Digits](https://docs.oracle.com/cd/E19957-01/806-3568/ncg_goldberg.html)\n",
    "One method of computing the difference between two floating-point numbers is to compute the difference exactly and then round it to the nearest floating-point number. This is very expensive if the operands differ greatly in size. Assuming $p = 3$ (see Task 5)\n",
    "\n",
    "$$\n",
    "6.02 \\times 10^{23} + 23\n",
    "$$\n",
    "\n",
    "would be calculated as\n",
    "\n",
    "$$\n",
    "x = 6.02 \\times 10^{23}\n",
    "$$\n",
    "$$\n",
    "y = 0.00000000000000000000023 × 10^{23}\n",
    "$$\n",
    "$$\n",
    "x + y = 6.02000000000000000000023 \\times 10^{23}\n",
    "$$\n",
    "\n",
    "which rounds to $6.02 \\times 10^{23}$. Rather than using all these digits, floating-point hardware normally operates on a fixed number of digits. Suppose that the number of digits kept is $p$, and that when the smaller operand is shifted right, digits are simply discarded (as opposed to rounding). Then \n",
    "\n",
    "$$\n",
    "6.02 \\times 10^{23} + 23\n",
    "$$\n",
    "\n",
    "becomes\n",
    "\n",
    "$$\n",
    "x = 6.02 \\times 10^{23}\n",
    "$$\n",
    "$$\n",
    "y = 0.00 \\times 10^{23}\n",
    "$$\n",
    "$$\n",
    "x + y = 6.02 \\times 10^{23}\n",
    "$$\n",
    "\n",
    "The answer is exactly the same as if the summation had been computed exactly and then rounded. Take another example: $10.1 - 9.93$. This becomes\n",
    "\n",
    "$$\n",
    "x = 1.01 \\times 10^{1}\n",
    "$$\n",
    "$$\n",
    "y = 0.99 \\times 10^{1}\n",
    "$$\n",
    "$$\n",
    "x - y = 0.02 \\times 10^{1}\n",
    "$$\n",
    "\n",
    "The correct answer is 0.17, so the computed difference is off by 30 ULPs (see Task 5) and is wrong in every digit!"
   ]
  },
  {
   "cell_type": "code",
   "execution_count": null,
   "id": "927f598b-7759-403e-a0c6-4019659d5641",
   "metadata": {},
   "outputs": [],
   "source": [
    "import decimal\n",
    "import fractions\n",
    "\n",
    "import numpy as np"
   ]
  },
  {
   "cell_type": "markdown",
   "id": "c330bed7-b3a1-4282-8f56-ae98310b79c6",
   "metadata": {},
   "source": [
    "#### Scientific notation formatter\n",
    "Define a helper function that formats large numbers to regular scientific format from Python variables."
   ]
  },
  {
   "cell_type": "code",
   "execution_count": null,
   "id": "ca16fa9c-fd1b-4f1a-a1b6-30ac9b9fdc47",
   "metadata": {},
   "outputs": [],
   "source": [
    "def scientific(num):\n",
    "    # Split the number into its components\n",
    "    num_str = f'{num:.6e}'\n",
    "    # Split the number into the coefficient and exponent parts\n",
    "    c, p = num_str.split('e')\n",
    "    # Return the formatted string\n",
    "    return f'{c}*10^{int(p)}'"
   ]
  },
  {
   "cell_type": "markdown",
   "id": "04b9afc9-f37c-4a95-afd3-7ea5b84a363d",
   "metadata": {},
   "source": [
    "#### Testing native case"
   ]
  },
  {
   "cell_type": "code",
   "execution_count": null,
   "id": "9236d213-78c0-4df1-862d-045a35a83d07",
   "metadata": {},
   "outputs": [],
   "source": [
    "N = 6.02214e+23\n",
    "n1 = 23\n",
    "n2 = 2042\n",
    "\n",
    "print(f'Naive test 1: {scientific(N)} + {n1} = {N+n1}')\n",
    "print(f'Naive test 2: {scientific(N)} + {n2} - {scientific(N)} = {N + n2 - N}')"
   ]
  },
  {
   "cell_type": "markdown",
   "id": "80577b61-cb5f-4a11-b377-d489d5be9a6b",
   "metadata": {},
   "source": [
    "#####  Discussion\n",
    "\n",
    "The second equation returns the (floating-point) value of `0.0`. The reason for this is that we've reached the limits of the IEEE 64-bit floating-point type. To eliminate this limit, we need to use a data type that has a higher accuracy and covers the numberrange, which we covers in our calculations. For example, in Python 3.x, we can to use the ['decimal' library's](https://docs.python.org/3/tutorial/floatingpoint.html) Decimal(), or the 'fractions' library's Fraction() function."
   ]
  },
  {
   "cell_type": "markdown",
   "id": "6b63914c-e783-4595-87eb-2cf675fabae3",
   "metadata": {},
   "source": [
    "### Solutions to this issue"
   ]
  },
  {
   "cell_type": "markdown",
   "id": "b89686d8-b6a7-4ef2-a5e9-5363fe7fc53e",
   "metadata": {},
   "source": [
    "#### 1) Decimal Library\n",
    "\n",
    "##### Smart addition function - Decimal library\n",
    "\n",
    "The function should look like this\n",
    "\n",
    "```python\n",
    "decimal.Decimal(str(a)) + decimal.Decimal(str(b))\n",
    "```\n",
    "\n",
    "**Explanation**: If we want to preserve accuracy, we need to pass the full values as strings, that is why we convert them forst to strings. Then we need to use the decimal.Decimal() datatype, which could add numbers with very high accuracy."
   ]
  },
  {
   "cell_type": "code",
   "execution_count": null,
   "id": "14066424-473c-47ff-a785-7333fefd1501",
   "metadata": {},
   "outputs": [],
   "source": [
    "def smart_add(a, b, prec=64):\n",
    "    # Set precision of decimal\n",
    "    decimal.getcontext().prec = prec\n",
    "    # Inputs and output need to be converted to string\n",
    "    return f'{decimal.Decimal(str(a)) + decimal.Decimal(str(b))}'"
   ]
  },
  {
   "cell_type": "code",
   "execution_count": null,
   "id": "ebcc68dc-1d38-495f-bd96-92e42f27478e",
   "metadata": {},
   "outputs": [],
   "source": [
    "# Test 1: Addition\n",
    "smart_add(N, 0.12345678901234567)"
   ]
  },
  {
   "cell_type": "code",
   "execution_count": null,
   "id": "506aeae0-0e77-42ed-89ad-4247abd90350",
   "metadata": {},
   "outputs": [],
   "source": [
    "# Test 2: Subtraction\n",
    "smart_add(N, -0.12345678901234567)"
   ]
  },
  {
   "cell_type": "markdown",
   "id": "ffadab8a-fa52-4c75-ad99-eabc106367db",
   "metadata": {},
   "source": [
    "#### Test with examples above"
   ]
  },
  {
   "cell_type": "code",
   "execution_count": null,
   "id": "e803a2dc-2d98-4acc-a768-e95a19946569",
   "metadata": {
    "scrolled": true
   },
   "outputs": [],
   "source": [
    "r1 = smart_add(N, n1)\n",
    "print(f'Add. test 1: {scientific(N)} + {n1} = {r1}')\n",
    "\n",
    "r2 = smart_add(N, n2)\n",
    "print(f'Add. test 2: {scientific(N)} + {n2} = {r2}')\n",
    "\n",
    "r3 = smart_add(smart_add(N, n2), -N)\n",
    "print(f'Add. test 3: {scientific(N)} + {n2} - {scientific(N)} = {r3}')"
   ]
  },
  {
   "cell_type": "markdown",
   "id": "6fdf8e80-5d9c-4d11-8d1e-4f3c8a7272ea",
   "metadata": {},
   "source": [
    "#### Smart Multiplication - Decimal library"
   ]
  },
  {
   "cell_type": "code",
   "execution_count": null,
   "id": "48c22eea-ce40-4efe-9c4c-f92ed0997a87",
   "metadata": {},
   "outputs": [],
   "source": [
    "def smart_mult(a, b, prec=64):\n",
    "    # Set precision of decimal\n",
    "    decimal.getcontext().prec = prec\n",
    "    # Inputs and output need to be converted to string \n",
    "    return f'{decimal.Decimal(str(a)) * decimal.Decimal(str(b))}'"
   ]
  },
  {
   "cell_type": "code",
   "execution_count": null,
   "id": "0db87d27-190e-4560-8e86-30e2c5a52a3b",
   "metadata": {},
   "outputs": [],
   "source": [
    "m1 = '1.0'\n",
    "m2 = '0.00000200000040000005004'\n",
    "\n",
    "print(f'Naive test: {m1} * {m2} = {float(m1) * float(m2)}')\n",
    "print(f'Mult. test: {m1} * {m2} = {smart_mult(m1, m2)}')"
   ]
  },
  {
   "cell_type": "markdown",
   "id": "21944cfc-5595-475e-85e6-ffbc106edf80",
   "metadata": {},
   "source": [
    "#### 2) Kahan Summation - variations\n",
    "\n",
    "##### Smart addition function - [Kahan Summation](https://en.wikipedia.org/wiki/Kahan_summation_algorithm)\n",
    "\n",
    "Creating a smart addition function, which does not limited by guard digits, could be useful, when large and very small numbers need to be added, or substracted precisely. To achieve this, we will use a Kahan Summation algorithm."
   ]
  },
  {
   "cell_type": "code",
   "execution_count": null,
   "id": "fb2432b0-060a-4019-bbc7-776c704adc56",
   "metadata": {},
   "outputs": [],
   "source": [
    "def kahan_sum(X):\n",
    "    '''\n",
    "    Implements the naive Kahan summation algorithm.\n",
    "    \n",
    "    Parameters:\n",
    "    X : list or array-like\n",
    "        Input array of numbers to be added or subtracted\n",
    "    '''\n",
    "    # The final Kahan sum; starts with zero\n",
    "    summ = 0\n",
    "    # A running compensation for lost low-order bits\n",
    "    comp = 0\n",
    "\n",
    "    # Iterate over all numbers in the input array\n",
    "    for xi in X:\n",
    "        # So far, so good: Compensation is zero\n",
    "        y_Kahan = xi - comp\n",
    "        # Alas, `summ` is big, `y_Kahan` small, so low-order digits of\n",
    "        # `y_Kahan` are lost\n",
    "        temp = summ + y_Kahan\n",
    "        # (`temp` - `summ`) cancels the high-order part of `y_Kahan`\n",
    "        # Subtracting `y_Kahan` recovers negative (low part of `y_Kahan`)\n",
    "        comp = (temp - summ) - y_Kahan\n",
    "        # Algebraically, `comp` should always be zero, although\n",
    "        # overly-aggressive optimizing compilers could break this in\n",
    "        # various programming languages. In Python, we're safe for now.\n",
    "        summ = temp\n",
    "        # In the next iteration, the lost low part will be added to\n",
    "        # `y_Kahan` in a fresh attempt\n",
    "    return summ"
   ]
  },
  {
   "cell_type": "code",
   "execution_count": null,
   "id": "c4bf1d05-d469-41d4-b3b3-a27b594b713f",
   "metadata": {
    "scrolled": true
   },
   "outputs": [],
   "source": [
    "a_K = 120000000000000000000000000000000\n",
    "b_K = 0.0000000000000000000000000000154\n",
    "\n",
    "X_K = np.array([\n",
    "    decimal.Decimal(str(a_K)), decimal.Decimal(str(b_K))\n",
    "])\n",
    "\n",
    "print(f'Kahan sum: {kahan_sum(X_K)}')"
   ]
  },
  {
   "cell_type": "markdown",
   "id": "3fd986b1-5372-45ca-8d74-af2db07595d0",
   "metadata": {},
   "source": [
    "#### Smart addition function - Enhanched Kahan Summation: [Neumaier Summation](https://en.wikipedia.org/wiki/Kahan_summation_algorithm#Further_enhancements)\n",
    "\n",
    "Neumaier introduced a slight modification of Kahan's algorithm that also covers the case when the next term to be added is larger in absolute value than the running sum, effectively swapping the role of what is large and what is small."
   ]
  },
  {
   "cell_type": "code",
   "execution_count": null,
   "id": "0c30a856-2eb0-4996-a4c0-220ff6cf8b80",
   "metadata": {},
   "outputs": [],
   "source": [
    "def neumaier_sum(X):\n",
    "    '''\n",
    "    Implements the enhanced Kahan summation algorithm, also called as\n",
    "    Neumaier Summation.\n",
    "    \n",
    "    Parameters:\n",
    "    X : list or array-like\n",
    "        Input array of numbers to be added or subtracted\n",
    "    '''\n",
    "    # The final Neumaier sum; starts with the first number in the input array\n",
    "    summ = X[0]\n",
    "    # A running compensation for lost low-order bits\n",
    "    comp = 0\n",
    "\n",
    "    # Iterate over all numbers in the input array\n",
    "    for xi in X[1:]:\n",
    "        # Try adding the next element to our sum so far\n",
    "        temp = summ + xi\n",
    "        if(np.abs(summ) >= np.abs(xi)):\n",
    "            # If sum is bigger, low-order digits of `xi` are lost\n",
    "            comp += (summ - temp) + xi\n",
    "        else:\n",
    "            # Else, low-order digits of sum are lost\n",
    "            comp += (xi - temp) + summ\n",
    "        summ = temp\n",
    "        # Correction only applied once in the very end\n",
    "    return summ + comp              "
   ]
  },
  {
   "cell_type": "code",
   "execution_count": null,
   "id": "3bfb7679-5957-45f8-bf78-181270724ec2",
   "metadata": {
    "scrolled": true
   },
   "outputs": [],
   "source": [
    "a_N = 120000000000000000000000000000000\n",
    "b_N = 0.0000000000000000000000000000154\n",
    "\n",
    "X_N = np.array([\n",
    "    decimal.Decimal(str(a_N)), decimal.Decimal(str(b_N))\n",
    "])\n",
    "\n",
    "print(f'Neumaier sum: {neumaier_sum(X_N)}')"
   ]
  },
  {
   "cell_type": "markdown",
   "id": "a6e5a7f3-85bf-4692-8e35-a890bf45b7f6",
   "metadata": {},
   "source": [
    "### Difference between the Kahman- and the Neumaier Summation"
   ]
  },
  {
   "cell_type": "code",
   "execution_count": null,
   "id": "bf5951e3-0423-467f-b50b-ae89337edb28",
   "metadata": {},
   "outputs": [],
   "source": [
    "a_test = 1.0\n",
    "b_test = 1e+100\n",
    "c_test = 1.0\n",
    "d_test = -1e+100\n",
    "\n",
    "X_test = np.array([\n",
    "    decimal.Decimal(str(v_test)) for v_test in [a_test, b_test, c_test, d_test]\n",
    "])"
   ]
  },
  {
   "cell_type": "markdown",
   "id": "af3f583e-175a-4885-a06d-0842fd1fd8e5",
   "metadata": {},
   "source": [
    "**Correct answer should be trivially 2.0**"
   ]
  },
  {
   "cell_type": "code",
   "execution_count": null,
   "id": "c9a57b95-c91a-461d-9e38-4cfc99f1526c",
   "metadata": {},
   "outputs": [],
   "source": [
    "print(f'Kahan sum: {kahan_sum(X_test)}')\n",
    "print(f'Neumaier sum: {neumaier_sum(X_test)}')"
   ]
  },
  {
   "cell_type": "code",
   "execution_count": null,
   "id": "0710ff90-f4fb-444e-908d-ff609e4f5792",
   "metadata": {},
   "outputs": [],
   "source": []
  }
 ],
 "metadata": {
  "kernelspec": {
   "display_name": "Python 3 (ipykernel)",
   "language": "python",
   "name": "python3"
  },
  "language_info": {
   "codemirror_mode": {
    "name": "ipython",
    "version": 3
   },
   "file_extension": ".py",
   "mimetype": "text/x-python",
   "name": "python",
   "nbconvert_exporter": "python",
   "pygments_lexer": "ipython3",
   "version": "3.11.6"
  }
 },
 "nbformat": 4,
 "nbformat_minor": 5
}
