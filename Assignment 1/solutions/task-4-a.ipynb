{
 "cells": [
  {
   "cell_type": "markdown",
   "id": "da6bc38b-5d9f-489f-a7c7-6949d705e9f1",
   "metadata": {},
   "source": [
    "# Signal processing course 2018/2019-1 @ ELTE\n",
    "# Assignment 1\n",
    "## 09.17.2018"
   ]
  },
  {
   "cell_type": "markdown",
   "id": "6f97aee5-ee3c-4eb2-8980-59dfb929d709",
   "metadata": {},
   "source": [
    "## Task 4\n",
    "### a) Plotting random data points\n",
    "\n",
    "We need to generate a data set with $N \\approx 1000$ random data points. To achieve this, we generate random $\\left( x, y \\right)$ coordinates in the $\\left[ 0, 1 \\right]$ interval."
   ]
  },
  {
   "cell_type": "code",
   "execution_count": null,
   "id": "28c223aa-d7d6-441c-b540-3c1d5668b225",
   "metadata": {},
   "outputs": [],
   "source": [
    "import numpy as np\n",
    "import pandas as pd\n",
    "\n",
    "import seaborn as sns\n",
    "import matplotlib.cm as cm\n",
    "import matplotlib.pyplot as plt\n",
    "from mpl_toolkits.axes_grid1.axes_divider import make_axes_locatable"
   ]
  },
  {
   "cell_type": "code",
   "execution_count": null,
   "id": "27833291-9438-4b0f-9d2a-4827c2a36343",
   "metadata": {},
   "outputs": [],
   "source": [
    "# Initialize seaborn with custom settings\n",
    "# Facecolor values from S. Conradi @S_Conradi/@profConradi\n",
    "custom_settings = {\n",
    "    'figure.facecolor': '#f4f0e8',\n",
    "    'axes.facecolor': '#f4f0e8',\n",
    "    'axes.edgecolor': '0.7',\n",
    "    'axes.linewidth' : '2',\n",
    "    'grid.color': '0.7',\n",
    "    'grid.linestyle': '--',\n",
    "    'grid.alpha': 0.6,\n",
    "}\n",
    "sns.set_theme(rc=custom_settings)"
   ]
  },
  {
   "cell_type": "markdown",
   "id": "09b98564-7fb3-4e8b-89ba-178ece2d704c",
   "metadata": {},
   "source": [
    "#### Generate data points according to the uniform distribution"
   ]
  },
  {
   "cell_type": "code",
   "execution_count": null,
   "id": "477e605e-70a6-49fa-8172-e2353d12d67e",
   "metadata": {},
   "outputs": [],
   "source": [
    "# Number of data points\n",
    "N = 1000\n",
    "\n",
    "# Generate arrays for containing x and y coordinates\n",
    "xi = np.random.random(size=N)\n",
    "yi = np.random.random(size=N)\n",
    "\n",
    "# Coordinate vectors\n",
    "data = np.c_[xi, yi]"
   ]
  },
  {
   "cell_type": "markdown",
   "id": "28499f1d-803b-407e-99f2-3286b8debcba",
   "metadata": {},
   "source": [
    "#### Plot datapoints"
   ]
  },
  {
   "cell_type": "code",
   "execution_count": null,
   "id": "4091b347-857b-48ee-8e65-888afb362c36",
   "metadata": {},
   "outputs": [],
   "source": [
    "fig, ax = plt.subplots(figsize=(6, 6))\n",
    "ax.set_aspect('equal')\n",
    "\n",
    "ax.scatter(*data.T, color='0.3', alpha=0.8)\n",
    "ax.set_xlabel('X coordinates', fontsize=14)\n",
    "ax.set_ylabel('Y coordinates', fontsize=14)\n",
    "ax.set_title('Fig. 1. Basic scatter plot of random data points.',\n",
    "             fontsize=14, y=-0.22)\n",
    "\n",
    "plt.show()"
   ]
  },
  {
   "cell_type": "code",
   "execution_count": null,
   "id": "cea8bbb9-54db-4a90-a967-cce8fefa86d0",
   "metadata": {},
   "outputs": [],
   "source": [
    "fig, ax = plt.subplots(figsize=(6, 6))\n",
    "ax.set_aspect('equal')\n",
    "\n",
    "density = ax.hist2d(*data.T, bins=15, cmap=cm.jet)\n",
    "ax.set_xlabel('X coordinates', fontsize=14)\n",
    "ax.set_ylabel('Y coordinates', fontsize=14)\n",
    "ax.set_title('Fig. 2. Density plot of random data points.',\n",
    "             fontsize=14, y=-0.22)\n",
    "\n",
    "# Standard way of creating a supporting axis for a colorbar. This ensures\n",
    "# that the colorbar is the same height/length of the plot we want to\n",
    "# attach it to.\n",
    "#\n",
    "# This routine will generate a new axis that we should pass into the\n",
    "# `cax` argument of the `plt.colorbar()` function.\n",
    "divider = make_axes_locatable(ax)\n",
    "cax = divider.append_axes('right', size='5%', pad=0.2)\n",
    "plt.colorbar(density[3], cax=cax)\n",
    "\n",
    "plt.show()"
   ]
  },
  {
   "cell_type": "markdown",
   "id": "987174a8-7186-4a47-8ba1-8dfdae2ec17d",
   "metadata": {},
   "source": [
    "### Explore the `seaborn` library"
   ]
  },
  {
   "cell_type": "code",
   "execution_count": null,
   "id": "47c85863-005e-48bd-b8bf-470bef10a068",
   "metadata": {
    "scrolled": true
   },
   "outputs": [],
   "source": [
    "# Load random points into a pandas DataFrame\n",
    "df = pd.DataFrame({'x': data[:,0], 'y': data[:,1]})"
   ]
  },
  {
   "cell_type": "markdown",
   "id": "6ebd0981-23b9-48c4-80ea-4ffd4d1d2e10",
   "metadata": {},
   "source": [
    "#### Seaborn scatterplot"
   ]
  },
  {
   "cell_type": "code",
   "execution_count": null,
   "id": "f19ff58e-36b0-462c-873c-0aa605797ff8",
   "metadata": {},
   "outputs": [],
   "source": [
    "fig = sns.jointplot(data=df, x='x', y='y',\n",
    "                       kind='scatter', color='0.3', height=6, space=0)\n",
    "\n",
    "fig.set_axis_labels('X coordinates', 'Y coordinates', fontsize=14)\n",
    "fig.fig.suptitle('Fig. 3. Scatter plot and distribution of random\\ndata points.',\n",
    "                 fontsize=14, y=-0.018)\n",
    "\n",
    "plt.show()"
   ]
  },
  {
   "cell_type": "markdown",
   "id": "9e06dcfb-3ee6-4651-89d7-99ba8af07ecc",
   "metadata": {},
   "source": [
    "#### Seaborn hexagonal density plot"
   ]
  },
  {
   "cell_type": "code",
   "execution_count": null,
   "id": "63209629-baa8-4946-99ad-d316cca318d3",
   "metadata": {},
   "outputs": [],
   "source": [
    "fig = sns.jointplot(data=df, x='x', y='y',\n",
    "                    kind='hex', height=6, space=0)\n",
    "\n",
    "fig.set_axis_labels('X coordinates', 'Y coordinates', fontsize=14)\n",
    "fig.fig.suptitle('Fig. 4. Hexagonal density plot of random data points.',\n",
    "                 fontsize=14, y=-0.018)\n",
    "\n",
    "plt.show()"
   ]
  },
  {
   "cell_type": "markdown",
   "id": "1782f234-dde3-42df-b53c-09e8ced10add",
   "metadata": {},
   "source": [
    "#### Seaborn kernel density estimation"
   ]
  },
  {
   "cell_type": "code",
   "execution_count": null,
   "id": "b7affff7-79b6-4297-98c4-e47bda08d672",
   "metadata": {},
   "outputs": [],
   "source": [
    "fig, ax = plt.subplots(figsize=(6, 6),\n",
    "                       subplot_kw={'facecolor': 'black'})\n",
    "ax.grid(False)\n",
    "\n",
    "# Custom `seaborn` colormap\n",
    "cmap = sns.cubehelix_palette(as_cmap=True, dark=0, light=1, reverse=True)\n",
    "sns.kdeplot(data=df, x='x', y='y', cmap=cmap, n_levels=60, fill=True)\n",
    "\n",
    "# Set axis limits to cut off large empty area\n",
    "# These values ony work if (x,y) coordinates were pulled from the\n",
    "# interval of [0,1] !\n",
    "ax.set_xlim(-0.1, 1.1)\n",
    "ax.set_ylim(-0.1, 1.1)\n",
    "\n",
    "ax.set_xlabel('X coordinates', fontsize=14)\n",
    "ax.set_ylabel('Y coordinates', fontsize=14)\n",
    "ax.set_title('Fig. 5. A KDE plot of random data points.',\n",
    "             fontsize=14, y=-0.22)\n",
    "\n",
    "plt.show()"
   ]
  },
  {
   "cell_type": "code",
   "execution_count": null,
   "id": "2e0172e9-8936-44ce-aa46-c30a57d495dd",
   "metadata": {},
   "outputs": [],
   "source": []
  }
 ],
 "metadata": {
  "kernelspec": {
   "display_name": "Python 3 (ipykernel)",
   "language": "python",
   "name": "python3"
  },
  "language_info": {
   "codemirror_mode": {
    "name": "ipython",
    "version": 3
   },
   "file_extension": ".py",
   "mimetype": "text/x-python",
   "name": "python",
   "nbconvert_exporter": "python",
   "pygments_lexer": "ipython3",
   "version": "3.11.6"
  }
 },
 "nbformat": 4,
 "nbformat_minor": 5
}
