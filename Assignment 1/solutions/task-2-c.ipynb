{
 "cells": [
  {
   "cell_type": "markdown",
   "id": "f4421aa7-ac26-40f7-9965-7ccbd6865d29",
   "metadata": {},
   "source": [
    "# Signal processing course 2018/2019-1 @ ELTE\n",
    "# Assignment 1\n",
    "## 09.17.2018"
   ]
  },
  {
   "cell_type": "markdown",
   "id": "5e7b6ffe-4387-45aa-8c9c-2f753eaf702c",
   "metadata": {},
   "source": [
    "## Task 2\n",
    "### c.) Interchangeability of rotation operators"
   ]
  },
  {
   "cell_type": "code",
   "execution_count": null,
   "id": "f0f30d2b-ad08-41c9-bd3b-eef164b1bcbb",
   "metadata": {},
   "outputs": [],
   "source": [
    "import numpy as np"
   ]
  },
  {
   "cell_type": "markdown",
   "id": "912a26ca-d1b6-42ee-b0ab-9ae4013a71de",
   "metadata": {},
   "source": [
    "#### Rank of the system\n",
    "For the sake of clarity, we'll work in 2 dimensions."
   ]
  },
  {
   "cell_type": "code",
   "execution_count": null,
   "id": "6fedb66a-2fb6-4286-b8a8-4d0400588538",
   "metadata": {},
   "outputs": [],
   "source": [
    "rank = 2"
   ]
  },
  {
   "cell_type": "markdown",
   "id": "a702e172-16bc-4e23-a4d9-77d8dd385f96",
   "metadata": {},
   "source": [
    "#### Define a template for rotation matrices"
   ]
  },
  {
   "cell_type": "code",
   "execution_count": null,
   "id": "cea62aa4-c2af-4f10-90be-13f378ffdc16",
   "metadata": {},
   "outputs": [],
   "source": [
    "def R_matrix(theta):\n",
    "    R = np.array([\n",
    "        [np.cos(theta), -np.sin(theta)],\n",
    "        [np.sin(theta), np.cos(theta)]\n",
    "    ])\n",
    "    return R"
   ]
  },
  {
   "cell_type": "markdown",
   "id": "56b5e66f-2b55-4f56-b266-b17e8142ac63",
   "metadata": {},
   "source": [
    "#### Define the two test matrices"
   ]
  },
  {
   "cell_type": "code",
   "execution_count": null,
   "id": "271506e0-3c52-4590-9831-8ff2b2b36f04",
   "metadata": {},
   "outputs": [],
   "source": [
    "# Rotation angle of the first matrix\n",
    "theta_1 = 42 \n",
    "R1 = R_matrix(theta_1)\n",
    "print(f'First rotation matrix with theta = {theta_1:.2f}°:\\n{R1}\\n')\n",
    "\n",
    "# Rotation angle of the second matrix\n",
    "theta_2 = 69\n",
    "R2 = R_matrix(theta_2)\n",
    "print(f'Second rotation matrix with theta = {theta_2:.2f}°:\\n{R2}\\n')"
   ]
  },
  {
   "cell_type": "markdown",
   "id": "8af07ab7-f9e8-4689-b517-ab9f035c34ed",
   "metadata": {},
   "source": [
    "#### Define an arbitrary test vector $\\underline{v}$ to rotate"
   ]
  },
  {
   "cell_type": "code",
   "execution_count": null,
   "id": "782bec1e-4a46-4951-8353-6dab9f8aea3f",
   "metadata": {},
   "outputs": [],
   "source": [
    "# Vector to rotate\n",
    "v = np.random.randint(-5, 5, size=rank)\n",
    "print(f'Test vector `v_test` to rotate: {v}')"
   ]
  },
  {
   "cell_type": "markdown",
   "id": "9771ea97-9013-421a-a88c-ad2cbd66833b",
   "metadata": {},
   "source": [
    "#### First rotation"
   ]
  },
  {
   "cell_type": "code",
   "execution_count": null,
   "id": "0aa52bc8-6b06-47fd-ae9f-8a8d645d3362",
   "metadata": {},
   "outputs": [],
   "source": [
    "v_rot_1 = R2@(R1@v.T)\n",
    "\n",
    "print(f'Rotation by {theta_1:.2f}°, then {theta_2:.2f}°:\\n{v_rot_1}')"
   ]
  },
  {
   "cell_type": "markdown",
   "id": "96bcaeed-1eea-46ec-9fe5-504d7a0f8faf",
   "metadata": {},
   "source": [
    "#### Second rotation"
   ]
  },
  {
   "cell_type": "code",
   "execution_count": null,
   "id": "d8b98311-ead5-4938-8638-e1ea163533c7",
   "metadata": {},
   "outputs": [],
   "source": [
    "v_rot_2 = R1@(R2@v.T)\n",
    "\n",
    "print(f'Rotation by {theta_2:.2f}°, then {theta_1:.2f}°:\\n{v_rot_2}')"
   ]
  },
  {
   "cell_type": "markdown",
   "id": "8aa3d226-8b6b-490f-86d5-4dfdae1b7feb",
   "metadata": {},
   "source": [
    "#### Test wheter we got the same values"
   ]
  },
  {
   "cell_type": "code",
   "execution_count": null,
   "id": "8ae5152a-3e67-4f7e-9e87-6f26598702de",
   "metadata": {},
   "outputs": [],
   "source": [
    "print(f'Should be a null vector: {np.around(v_rot_2, 8) - np.around(v_rot_1, 8)}')"
   ]
  },
  {
   "cell_type": "code",
   "execution_count": null,
   "id": "11f1ac98-be49-46a5-8aeb-1b08f5eff573",
   "metadata": {},
   "outputs": [],
   "source": []
  }
 ],
 "metadata": {
  "kernelspec": {
   "display_name": "Python 3 (ipykernel)",
   "language": "python",
   "name": "python3"
  },
  "language_info": {
   "codemirror_mode": {
    "name": "ipython",
    "version": 3
   },
   "file_extension": ".py",
   "mimetype": "text/x-python",
   "name": "python",
   "nbconvert_exporter": "python",
   "pygments_lexer": "ipython3",
   "version": "3.11.6"
  }
 },
 "nbformat": 4,
 "nbformat_minor": 5
}
