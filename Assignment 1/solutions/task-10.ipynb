{
 "cells": [
  {
   "cell_type": "markdown",
   "id": "e25e749c-d38a-4b70-84e0-07696106984b",
   "metadata": {},
   "source": [
    "# Signal processing course 2018/2019-1 @ ELTE\n",
    "# Assignment 1\n",
    "## 09.17.2018"
   ]
  },
  {
   "cell_type": "markdown",
   "id": "00d1ac3a-1754-4e4b-b0a3-2892902f2a1a",
   "metadata": {},
   "source": [
    "## Task 10\n",
    "### Multiplicative congruential random number generator\n",
    "\n",
    "Multiplicative congruential pseudo-random number generator, generates numbers by a recursive equation, containing 3 parameters and 1 variable, as follows:\n",
    "\n",
    "$$\n",
    "x_{i+1} = \\left( a \\cdot x_{i} + b \\right) \\mod m\n",
    "$$"
   ]
  },
  {
   "cell_type": "code",
   "execution_count": null,
   "id": "28c223aa-d7d6-441c-b540-3c1d5668b225",
   "metadata": {},
   "outputs": [],
   "source": [
    "import numpy as np\n",
    "import pandas as pd\n",
    "from scipy.stats import gaussian_kde\n",
    "\n",
    "import seaborn as sns\n",
    "import matplotlib.cm as cm\n",
    "import matplotlib.pyplot as plt\n",
    "from mpl_toolkits.mplot3d import Axes3D\n",
    "from mpl_toolkits.axes_grid1.axes_divider import make_axes_locatable"
   ]
  },
  {
   "cell_type": "code",
   "execution_count": null,
   "id": "002e1459-b67a-4b58-8c99-0bd9db97cc6e",
   "metadata": {},
   "outputs": [],
   "source": [
    "# Initialize seaborn with custom settings\n",
    "# Facecolor values from S. Conradi @S_Conradi/@profConradi\n",
    "custom_settings = {\n",
    "    'figure.facecolor': '#f4f0e8',\n",
    "    'axes.facecolor': '#f4f0e8',\n",
    "    'axes.edgecolor': '0.7',\n",
    "    'axes.linewidth' : '2',\n",
    "    'grid.color': '0.7',\n",
    "    'grid.linestyle': '--',\n",
    "    'grid.alpha': 0.6,\n",
    "}\n",
    "sns.set_theme(rc=custom_settings)"
   ]
  },
  {
   "cell_type": "markdown",
   "id": "7abcac3a-2b7b-48a2-b74b-2e8aebcbb2bc",
   "metadata": {},
   "source": [
    "#### Number of random numbers to generate"
   ]
  },
  {
   "cell_type": "code",
   "execution_count": null,
   "id": "35410cf9-b34c-42b5-979c-e519e6cc239e",
   "metadata": {},
   "outputs": [],
   "source": [
    "N = 5000"
   ]
  },
  {
   "cell_type": "markdown",
   "id": "4f4eb844-9d59-4896-8589-271affd76ddf",
   "metadata": {},
   "source": [
    "#### Compose a multiplicative congruential RNG as described above"
   ]
  },
  {
   "cell_type": "code",
   "execution_count": null,
   "id": "237f3af4-b964-4bfb-9063-affc38fca766",
   "metadata": {},
   "outputs": [],
   "source": [
    "def mult_cong_rng(a, b, m, xi):\n",
    "    '''\n",
    "    Implement a simple multiplicative congruential RNG.\n",
    "    '''\n",
    "    xp = ((a * xi + b) % m) / m\n",
    "    xi = xp * m\n",
    "\n",
    "    return xi, xp"
   ]
  },
  {
   "cell_type": "markdown",
   "id": "ce48f5a9-76e3-45e5-a022-8644a557e928",
   "metadata": {},
   "source": [
    "#### Define initial state of the RNG and generate random numbers"
   ]
  },
  {
   "cell_type": "code",
   "execution_count": null,
   "id": "d65f5d75-3b18-4dd0-ab21-ef739c921046",
   "metadata": {},
   "outputs": [],
   "source": [
    "a = 13\n",
    "b = 0\n",
    "m = 150\n",
    "x0 = 1\n",
    "\n",
    "x_rng = np.zeros(N, dtype=np.float32)\n",
    "for i in range(N):\n",
    "    x0, x_rng[i] = mult_cong_rng(a, b, m, x0)"
   ]
  },
  {
   "cell_type": "code",
   "execution_count": null,
   "id": "1a1e0398-c095-43fa-9753-f4b4e7a4c417",
   "metadata": {},
   "outputs": [],
   "source": [
    "fig, ax = plt.subplots(figsize=(8, 4))\n",
    "\n",
    "sns.kdeplot(x_rng, color='0.3', fill=True, ax=ax)\n",
    "\n",
    "ax.set_xlabel('Numbers', fontsize=14)\n",
    "ax.set_ylabel('Density', fontsize=14)\n",
    "ax.set_title('Fig. 1. Distribution of random numbers, by mult. cong. RNG',\n",
    "             fontsize=14, y=-0.3)\n",
    "\n",
    "plt.show()"
   ]
  },
  {
   "cell_type": "markdown",
   "id": "23ab68e3-9676-42c5-8a99-31a0a33e2329",
   "metadata": {},
   "source": [
    "### Marsaglia's theorem/Marsaglia effect\n",
    "\n",
    "The Marsaglia effect encapsulates the regularity appearing, as pseudo-random numbers are generated using an iterative RNG. It was named after Marsaglia, who first observed this phenomenom.\n",
    "\n",
    "Marsaglia showed that $n$-dimensional vectors, which were created by a pseudo-random number generator will be located on a finite number of parallel $n$-dimensional surfaces, when they're represented in a coordinate system.\n",
    "\n",
    "We can visualize the Marsaglia effect by generating a couple thousand of $3$-dimensional vectors via the following indexing scheme:\n",
    "\n",
    "$$\n",
    "\\left( x_{1}, x_{2}, x_{3} \\right), \\left( x_{4}, x_{5}, x_{6} \\right), \\left( x_{7}, x_{8}, x_{9} \\right) \\cdots\n",
    "$$\n",
    "\n",
    "Then we plot them on a cluster density graph, and a 2D scatter plot for demonstration."
   ]
  },
  {
   "cell_type": "markdown",
   "id": "fb82afd4-8018-4ec6-af42-bd77c5d211a4",
   "metadata": {},
   "source": [
    "#### Hyperparameters of the Marsaglia \"simulation\""
   ]
  },
  {
   "cell_type": "code",
   "execution_count": null,
   "id": "4c63894f-c1d1-407c-b2bb-255a976f42e2",
   "metadata": {},
   "outputs": [],
   "source": [
    "N_me = 15000  # Number of vectors to generate for the Marsaglia Effect\n",
    "rank = 3      # Number of components of generated vectors"
   ]
  },
  {
   "cell_type": "markdown",
   "id": "78ceff94-2e57-4e5a-be2c-da6f2718f16d",
   "metadata": {},
   "source": [
    "#### Define initial state of the RNG and generate random numbers"
   ]
  },
  {
   "cell_type": "code",
   "execution_count": null,
   "id": "d62c676a-9c14-4fe9-b01f-103890343029",
   "metadata": {},
   "outputs": [],
   "source": [
    "a = 13\n",
    "b = 0\n",
    "m = 150\n",
    "x0 = 1\n",
    "\n",
    "x_me = np.zeros((N_me, rank))  # Shape = (N_me x rank)\n",
    "# Iterate over vectors\n",
    "for i in range(N_me):\n",
    "    # Iterate over components and generate random numbers for them\n",
    "    for ri in range(rank):\n",
    "        x0, x_me[i, ri] = mult_cong_rng(a, b, m, x0)"
   ]
  },
  {
   "cell_type": "markdown",
   "id": "457f1ca2-fa3c-48e4-a2d5-0f796f3ee315",
   "metadata": {},
   "source": [
    "#### 3D scatter plot"
   ]
  },
  {
   "cell_type": "code",
   "execution_count": null,
   "id": "ebe69e2a-aec8-436e-b5b3-9a5745ee1358",
   "metadata": {},
   "outputs": [],
   "source": [
    "fig, ax = plt.subplots(figsize=(8, 8),\n",
    "                       subplot_kw={'projection': '3d'})\n",
    "ax.view_init(elev=35, azim=10)\n",
    "\n",
    "ax.scatter(*x_me.T, color='0.3', s=4, alpha=0.4)\n",
    "ax.set_xlabel('X coordinates', fontsize=14)\n",
    "ax.set_ylabel('Y coordinates', fontsize=14)\n",
    "ax.set_zlabel('Z coordinates', fontsize=14)\n",
    "\n",
    "plt.show()"
   ]
  },
  {
   "cell_type": "markdown",
   "id": "ac8e9709-8022-4700-a8c9-d48b8b21b8ba",
   "metadata": {},
   "source": [
    "#### 3D density plot"
   ]
  },
  {
   "cell_type": "code",
   "execution_count": null,
   "id": "edf9056f-3413-41d2-a31a-ee0564d50509",
   "metadata": {},
   "outputs": [],
   "source": [
    "# Fit a Gaussian kernel on our random data\n",
    "kernel = gaussian_kde(x_me.T)\n",
    "# Get density values for the actual data points\n",
    "density = kernel(x_me.T)"
   ]
  },
  {
   "cell_type": "code",
   "execution_count": null,
   "id": "18712106-5047-454d-b425-8acc3f037770",
   "metadata": {},
   "outputs": [],
   "source": [
    "fig, ax = plt.subplots(figsize=(8, 8),\n",
    "                       subplot_kw={'projection': '3d'})\n",
    "ax.view_init(elev=35, azim=10)\n",
    "\n",
    "contour = ax.scatter(*x_me.T, c=density, cmap=cm.jet, s=4, alpha=0.4)\n",
    "ax.set_xlabel('X coordinates', fontsize=14)\n",
    "ax.set_ylabel('Y coordinates', fontsize=14)\n",
    "ax.set_zlabel('Z coordinates', fontsize=14)\n",
    "\n",
    "plt.show()"
   ]
  },
  {
   "cell_type": "markdown",
   "id": "41aba269-d895-4dfb-8790-424e25cbfbf6",
   "metadata": {},
   "source": [
    "#### 2D scatter plot for each axes"
   ]
  },
  {
   "cell_type": "code",
   "execution_count": null,
   "id": "42604788-18bd-473c-a2dc-39f32d81b43d",
   "metadata": {},
   "outputs": [],
   "source": [
    "# Makes it easier to plot the 2D cross section plots if we encode the\n",
    "# individual components as `x`, `y` and `z` using a pandas DataFrame\n",
    "df = pd.DataFrame(data=x_me, columns=['x', 'y', 'z'])"
   ]
  },
  {
   "cell_type": "code",
   "execution_count": null,
   "id": "ec86efa2-4f72-4771-8718-b8390c906a33",
   "metadata": {},
   "outputs": [],
   "source": [
    "nr, nc = 1, 3\n",
    "fig, axes = plt.subplots(nr, nc, figsize=(nc*6, nr*6))\n",
    "axes = axes.flatten()\n",
    "\n",
    "# Define axis labels\n",
    "ax_labels = {\n",
    "    f'{c.lower()}' : f'{c.upper()} coordinates' for c in ['x', 'y', 'z']\n",
    "}\n",
    "# Define the individual camera angles for all 3 plots\n",
    "# Must be lists to reference pandas DataFrame keys below\n",
    "views = [\n",
    "    ['x', 'y'], ['y', 'z'], ['x', 'z']\n",
    "]\n",
    "for i, ax in enumerate(axes):\n",
    "    ax.scatter(*df[views[i]].values.T,\n",
    "               color='0.3', s=4, alpha=0.4)\n",
    "    ax.set_xlabel(ax_labels[views[i][0]], fontsize=14)\n",
    "    ax.set_ylabel(ax_labels[views[i][1]], fontsize=14)\n",
    "\n",
    "plt.show()"
   ]
  },
  {
   "cell_type": "markdown",
   "id": "0f40df4c-0b9f-48e7-a324-066d0c7fb38b",
   "metadata": {},
   "source": [
    "#### 2D density plot for each axes"
   ]
  },
  {
   "cell_type": "code",
   "execution_count": null,
   "id": "478f7959-e5d7-4651-bfea-8816dcbd66ee",
   "metadata": {},
   "outputs": [],
   "source": [
    "nr, nc = 1, 3\n",
    "fig, axes = plt.subplots(nr, nc, figsize=(nc*6, nr*6))\n",
    "axes = axes.flatten()\n",
    "\n",
    "# Define axis labels\n",
    "ax_labels = {\n",
    "    f'{c.lower()}' : f'{c.upper()} coordinates' for c in ['x', 'y', 'z']\n",
    "}\n",
    "# Define the individual camera angles for all 3 plots\n",
    "# Must be lists to reference pandas DataFrame keys below\n",
    "views = [\n",
    "    ['x', 'y'], ['y', 'z'], ['x', 'z']\n",
    "]\n",
    "for i, ax in enumerate(axes):\n",
    "    ax.scatter(*df[views[i]].values.T,\n",
    "               c=density, cmap=cm.jet, s=4, alpha=0.4)\n",
    "    ax.set_xlabel(ax_labels[views[i][0]], fontsize=14)\n",
    "    ax.set_ylabel(ax_labels[views[i][1]], fontsize=14)\n",
    "\n",
    "plt.show()"
   ]
  },
  {
   "cell_type": "code",
   "execution_count": null,
   "id": "ea0d14b2-83ee-42d8-8795-a3220c2f3fab",
   "metadata": {},
   "outputs": [],
   "source": []
  }
 ],
 "metadata": {
  "kernelspec": {
   "display_name": "Python 3 (ipykernel)",
   "language": "python",
   "name": "python3"
  },
  "language_info": {
   "codemirror_mode": {
    "name": "ipython",
    "version": 3
   },
   "file_extension": ".py",
   "mimetype": "text/x-python",
   "name": "python",
   "nbconvert_exporter": "python",
   "pygments_lexer": "ipython3",
   "version": "3.11.6"
  }
 },
 "nbformat": 4,
 "nbformat_minor": 5
}
