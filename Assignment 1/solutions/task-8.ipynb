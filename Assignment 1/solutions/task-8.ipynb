{
 "cells": [
  {
   "cell_type": "markdown",
   "id": "249e86e5-7bac-4ef3-8414-6d94557c43d9",
   "metadata": {},
   "source": [
    "# Signal processing course 2018/2019-1 @ ELTE\n",
    "# Assignment 1\n",
    "## 09.17.2018"
   ]
  },
  {
   "cell_type": "markdown",
   "id": "76c0a687-7dcf-4adf-9b72-6105f58f8d39",
   "metadata": {},
   "source": [
    "## Task 8\n",
    "### Machine epsilon\n",
    "\n",
    "Using the definitions layed out in previous task, the machine epsilon is defined by the following formula:\n",
    "\n",
    "$$\n",
    "\\varepsilon = \\frac{1}{2} \\beta^{1-p}\n",
    "$$"
   ]
  },
  {
   "cell_type": "markdown",
   "id": "d6bb9f01-a9ac-46e2-8cb6-ad0f2d95eae1",
   "metadata": {},
   "source": [
    "### Octave\n",
    "\n",
    "![64bit](../img/64bit.png)\n",
    "\n",
    "Machine epsilon in octave could be displayed by a built-in function, $eps()$, which returns, that\n",
    "\n",
    "$$\n",
    "\\varepsilon = 2.220446049250313^{-16}\n",
    "$$\n",
    "\n",
    "Based on the magnitude of this value, we can say that a floating-point number's significand is stored on 64 bits, where the sign part takes up 1 bit, the exponent takes up 11 bits, and the mantis/significand takes up 52 bits. If we need to display more numbers on the left side of the comma, we will lose bits, and therefore decimal places on the right side. The precision will deteriorate in these cases for small numbers.\n",
    "\n",
    "Note that by default numeric constants (like $\\varepsilon$) are represented within Octave by IEEE 754 double precision (binary64) floating-point format.\n",
    "\n",
    "Let's test the same for Python too."
   ]
  },
  {
   "cell_type": "code",
   "execution_count": null,
   "id": "cdba9a04-fda6-453f-b996-cef76a3b8c2f",
   "metadata": {},
   "outputs": [],
   "source": [
    "import numpy as np"
   ]
  },
  {
   "cell_type": "code",
   "execution_count": null,
   "id": "a9326e24-0ffd-4229-93a5-857394f09bda",
   "metadata": {},
   "outputs": [],
   "source": [
    "test_values = [\n",
    "    '2.220446049250313',\n",
    "    '-2.220446049250313',\n",
    "    '22.220446049250313',\n",
    "    '222.220446049250313',\n",
    "    '-222.220446049250313'\n",
    "]\n",
    "\n",
    "for vi in test_values:\n",
    "    print(f'{vi}:\\t{float(vi)}\\n')"
   ]
  },
  {
   "cell_type": "markdown",
   "id": "60ac5519-a97a-409d-a1b3-d06ab4feff7d",
   "metadata": {},
   "source": [
    "### Python\n",
    "##### Using existing libraries\n",
    "Python has it's own functions too, to display machine epsilon."
   ]
  },
  {
   "cell_type": "code",
   "execution_count": null,
   "id": "7ea2de9e-b6bb-4a74-9ceb-5bc7cce7d9fc",
   "metadata": {
    "scrolled": true
   },
   "outputs": [],
   "source": [
    "print(f'std. float epsilon: {np.finfo(float).eps}')\n",
    "print(f'np.float32 epsilon: {np.finfo(np.float32).eps}')\n",
    "print(f'np.float64 epsilon: {np.finfo(np.float64).eps}')"
   ]
  },
  {
   "cell_type": "markdown",
   "id": "3507b675-6f04-4c3b-a760-f44d5db725eb",
   "metadata": {},
   "source": [
    "#### Calculating it manually"
   ]
  },
  {
   "cell_type": "code",
   "execution_count": null,
   "id": "e7d627a3-d91f-4c07-b0a3-c6c124f6638d",
   "metadata": {},
   "outputs": [],
   "source": [
    "def float_epsilon():\n",
    "    '''\n",
    "    Calculate the floating-point epsilon in any programming language\n",
    "    using a simple iterative method.\n",
    "    '''\n",
    "    # Starting value could be anything above the true value of the\n",
    "    # floating-point epsilon. This choice should not really matter, as\n",
    "    # long as it isn't too small.\n",
    "    eps = 1.0\n",
    "\n",
    "    while (1.0 + eps != 1.0):\n",
    "        eps /= 2.0\n",
    "    # The last iteration will halve the floating-point epsilon, thus\n",
    "    # we will need to multiply it by 2 to get back the correct value\n",
    "    return 2*eps"
   ]
  },
  {
   "cell_type": "code",
   "execution_count": null,
   "id": "7f52ff65-c420-47ab-bdab-c0d0e3bad0d3",
   "metadata": {},
   "outputs": [],
   "source": [
    "print(f'Manually calculated floating-point epsilon: {float_epsilon()}')"
   ]
  }
 ],
 "metadata": {
  "kernelspec": {
   "display_name": "Python 3 (ipykernel)",
   "language": "python",
   "name": "python3"
  },
  "language_info": {
   "codemirror_mode": {
    "name": "ipython",
    "version": 3
   },
   "file_extension": ".py",
   "mimetype": "text/x-python",
   "name": "python",
   "nbconvert_exporter": "python",
   "pygments_lexer": "ipython3",
   "version": "3.11.6"
  }
 },
 "nbformat": 4,
 "nbformat_minor": 5
}
